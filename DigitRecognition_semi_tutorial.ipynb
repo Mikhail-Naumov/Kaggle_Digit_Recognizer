{
 "cells": [
  {
   "cell_type": "markdown",
   "metadata": {
    "heading_collapsed": true
   },
   "source": [
    "# Fun with Neural Nets\n",
    "\n",
    "---\n",
    "#### Tensor & Keras Dense NN\n",
    "#### Tensor & Keras CNNs"
   ]
  },
  {
   "cell_type": "markdown",
   "metadata": {
    "hidden": true
   },
   "source": [
    "Below is a sorta tutoral for building a neural network to recognize handwritten digits.  The data is from Kaggle!!\n",
    "\n",
    "1. Load the training data (`train.csv`) from Kaggle\n",
    "2. Setup X and y (feature matrix and target vector)\n",
    "3. Split X and y into train and test subsets.\n",
    "4. Preprocess your data\n",
    "\n",
    "   - NNs need values between 0-1 so we need to divide our `X` by the max value of a pixel (255).\n",
    "   - Lucky us, we dont need to use a standard scalar we can just divide by 255\n",
    "   - Since this is a multiclass classification problem, our NN needs our target `y` to be one-hot encoded\n",
    "   \n",
    "5. Create your network.\n",
    "\n",
    "   - Remember that for multi-class classification you need a softamx activation function on the output layer, so they all sum up to 1.\n",
    "\n",
    "6. Trian your network.\n",
    "7. add hidden layers, adding hidden layer units, chaning the activation functions on the hidden layers, have fun.\n",
    "8. Load in Kaggle's `test.csv`\n",
    "9. Create your predictions (these should be numbers in the range 0-9).\n",
    "10. Save your predictions and submit them to Kaggle."
   ]
  },
  {
   "cell_type": "markdown",
   "metadata": {},
   "source": [
    "# TensorFlow Dense"
   ]
  },
  {
   "cell_type": "markdown",
   "metadata": {},
   "source": [
    "## Imports"
   ]
  },
  {
   "cell_type": "code",
   "execution_count": 1,
   "metadata": {},
   "outputs": [
    {
     "name": "stderr",
     "output_type": "stream",
     "text": [
      "/Users/Nahel/anaconda3/envs/NN/lib/python3.6/site-packages/h5py/__init__.py:36: FutureWarning: Conversion of the second argument of issubdtype from `float` to `np.floating` is deprecated. In future, it will be treated as `np.float64 == np.dtype(float).type`.\n",
      "  from ._conv import register_converters as _register_converters\n"
     ]
    }
   ],
   "source": [
    "import tensorflow as tf\n",
    "\n",
    "from sklearn.model_selection import train_test_split\n",
    "from sklearn.preprocessing import StandardScaler\n",
    "from sklearn import metrics\n",
    "\n",
    "import matplotlib.pyplot as plt\n",
    "import seaborn as sns\n",
    "\n",
    "%matplotlib inline\n",
    "\n",
    "import pandas as pd\n",
    "import numpy as np"
   ]
  },
  {
   "cell_type": "markdown",
   "metadata": {},
   "source": [
    "## Variable Assignment & Preprocessing"
   ]
  },
  {
   "cell_type": "code",
   "execution_count": 4,
   "metadata": {},
   "outputs": [],
   "source": [
    "train = pd.read_csv('./train.csv')\n",
    "X_target = pd.read_csv('./test.csv')\n",
    "\n",
    "y = train['label']\n",
    "X = train.drop('label',axis=1)\n",
    "\n",
    "#one hot encoding those values\n",
    "y = pd.get_dummies(y).values"
   ]
  },
  {
   "cell_type": "code",
   "execution_count": 5,
   "metadata": {},
   "outputs": [],
   "source": [
    "X_train, X_test, y_train, y_test = train_test_split(X,y)"
   ]
  },
  {
   "cell_type": "code",
   "execution_count": 6,
   "metadata": {},
   "outputs": [],
   "source": [
    "ss= StandardScaler()\n",
    "ss.fit(X_train)\n",
    "X_train = ss.fit_transform(X_train)\n",
    "X_test = ss.transform(X_test)"
   ]
  },
  {
   "cell_type": "code",
   "execution_count": 7,
   "metadata": {},
   "outputs": [],
   "source": [
    "X_target = ss.transform(X_target)"
   ]
  },
  {
   "cell_type": "code",
   "execution_count": 10,
   "metadata": {},
   "outputs": [
    {
     "data": {
      "text/plain": [
       "Text(0.5,1,'28x28 data')"
      ]
     },
     "execution_count": 10,
     "metadata": {},
     "output_type": "execute_result"
    },
    {
     "data": {
      "image/png": "[encoded data removed]",
      "text/plain": [
       "<matplotlib.figure.Figure at 0x1a19bc8940>"
      ]
     },
     "metadata": {},
     "output_type": "display_data"
    }
   ],
   "source": [
    "fig, ax = plt.subplots()\n",
    "ax.imshow(X_train[4].reshape(28,28), cmap='gray')\n",
    "ax.set_title('28x28 data')"
   ]
  },
  {
   "cell_type": "markdown",
   "metadata": {},
   "source": [
    "## Model Building"
   ]
  },
  {
   "cell_type": "code",
   "execution_count": 11,
   "metadata": {},
   "outputs": [],
   "source": [
    "tf.reset_default_graph()"
   ]
  },
  {
   "cell_type": "code",
   "execution_count": 12,
   "metadata": {},
   "outputs": [],
   "source": [
    "# create \"placeholders\" for out X matrix and y target\n",
    "X = tf.placeholder(dtype=tf.float32,\n",
    "                   shape=(None,X_train.shape[1]),\n",
    "                   name='X')\n",
    "\n",
    "y = tf.placeholder(dtype=tf.float32,\n",
    "                   shape=(None),\n",
    "                   name='y')"
   ]
  },
  {
   "cell_type": "code",
   "execution_count": 13,
   "metadata": {},
   "outputs": [],
   "source": [
    "# Defined our network topology!!\n",
    "n_hidden = 12\n",
    "n_hidden2 = 10\n",
    "\n",
    "hidden1 = tf.layers.dense(X, units=n_hidden,\n",
    "                          name='hidden1',\n",
    "                          activation=tf.nn.relu)\n",
    "\n",
    "hidden2 = tf.layers.dense(hidden1, units=n_hidden2,\n",
    "                          name='hidden2',\n",
    "                          activation=tf.nn.tanh)\n",
    "\n",
    "y_hat = tf.layers.dense(hidden2,    \n",
    "                        units=y_train.shape[1],\n",
    "                        activation=tf.nn.softmax,\n",
    "                        name='y_hat')"
   ]
  },
  {
   "cell_type": "code",
   "execution_count": 14,
   "metadata": {},
   "outputs": [
    {
     "name": "stdout",
     "output_type": "stream",
     "text": [
      "WARNING:tensorflow:From /Users/Nahel/anaconda3/envs/NN/lib/python3.6/site-packages/tensorflow/python/ops/losses/losses_impl.py:691: softmax_cross_entropy_with_logits (from tensorflow.python.ops.nn_ops) is deprecated and will be removed in a future version.\n",
      "Instructions for updating:\n",
      "\n",
      "Future major versions of TensorFlow will allow gradients to flow\n",
      "into the labels input on backprop by default.\n",
      "\n",
      "See tf.nn.softmax_cross_entropy_with_logits_v2.\n",
      "\n"
     ]
    }
   ],
   "source": [
    "# Setup Loss&Learning\n",
    "loss = tf.losses.softmax_cross_entropy(y, y_hat)\n",
    "\n",
    "learning_rate = 0.1\n",
    "optimizer = tf.train.AdamOptimizer(learning_rate)\n",
    "\n",
    "training_op = optimizer.minimize(loss)"
   ]
  },
  {
   "cell_type": "markdown",
   "metadata": {},
   "source": [
    "## Model Run & Interpretation"
   ]
  },
  {
   "cell_type": "code",
   "execution_count": 15,
   "metadata": {},
   "outputs": [],
   "source": [
    "init = tf.global_variables_initializer()"
   ]
  },
  {
   "cell_type": "code",
   "execution_count": 16,
   "metadata": {},
   "outputs": [
    {
     "name": "stdout",
     "output_type": "stream",
     "text": [
      "epoch 0 2.2457066 2.2477427\n",
      "epoch 5 1.8900692 1.8957309\n",
      "epoch 10 1.7365327 1.7419295\n"
     ]
    }
   ],
   "source": [
    "train_err = []\n",
    "test_err = []\n",
    "\n",
    "with tf.Session() as sess:\n",
    "    init.run()\n",
    "    \n",
    "    for epoch in range(15):\n",
    "        sess.run(training_op,\n",
    "                 feed_dict={X:X_train, y:y_train})\n",
    "        train_loss = sess.run(loss, \n",
    "                              feed_dict={X:X_train, y:y_train})\n",
    "        test_loss = sess.run(loss,\n",
    "                             feed_dict={X:X_test, \n",
    "                                        y:y_test})\n",
    "        train_err.append(train_loss)\n",
    "        test_err.append(test_loss)\n",
    "        \n",
    "        if epoch%5==0:\n",
    "            print('epoch',epoch,train_loss,test_loss)\n",
    "        if test_loss/train_loss>1.02:\n",
    "            print('nope')\n",
    "            break\n",
    "                \n",
    "    pred = sess.run(y_hat, feed_dict={X:X_test})\n",
    "    target_pred = sess.run(y_hat, feed_dict={X:X_target})"
   ]
  },
  {
   "cell_type": "code",
   "execution_count": 17,
   "metadata": {},
   "outputs": [
    {
     "data": {
      "image/png": "[encoded data removed]",
      "text/plain": [
       "<matplotlib.figure.Figure at 0x1a1a094710>"
      ]
     },
     "metadata": {},
     "output_type": "display_data"
    }
   ],
   "source": [
    "plt.plot(train_err, label='Training err')\n",
    "plt.plot(test_err, label='Testing err')\n",
    "plt.legend();"
   ]
  },
  {
   "cell_type": "code",
   "execution_count": 18,
   "metadata": {},
   "outputs": [],
   "source": [
    "#target pred is the validation for which we do not have labels\n",
    "#pred is our preds from our test split\n",
    "target_pred = [np.argmax(x) for x in target_pred]\n",
    "pred = [np.argmax(x) for x in pred]"
   ]
  },
  {
   "cell_type": "code",
   "execution_count": 19,
   "metadata": {},
   "outputs": [
    {
     "data": {
      "text/plain": [
       "array([[ 951,    0,   21,    5,    8,    0,    9,   11,   12,    4],\n",
       "       [   0, 1085,   10,    5,    0,    0,    6,    3,   33,    6],\n",
       "       [  18,    5,  875,   30,   18,    0,   37,   14,   26,    3],\n",
       "       [  11,   12,   94,  873,   14,    0,    4,   17,   20,   19],\n",
       "       [   6,   20,    8,    6,  847,    0,    6,    4,   12,  117],\n",
       "       [  93,   37,  133,  197,   60,    0,   58,   37,  288,   42],\n",
       "       [  26,   13,   16,    1,   25,    0,  964,    1,    9,    0],\n",
       "       [   0,    9,   10,   16,   22,    0,    0,  990,    1,   80],\n",
       "       [   6,   53,   31,   58,   17,    0,   25,   26,  802,   21],\n",
       "       [   8,    9,    0,   26,   86,    0,    0,   36,    5,  878]])"
      ]
     },
     "execution_count": 19,
     "metadata": {},
     "output_type": "execute_result"
    }
   ],
   "source": [
    "metrics.confusion_matrix(np.argmax(y_test,axis=1),pred)"
   ]
  },
  {
   "cell_type": "code",
   "execution_count": 20,
   "metadata": {},
   "outputs": [
    {
     "data": {
      "text/plain": [
       "0.7871428571428571"
      ]
     },
     "execution_count": 20,
     "metadata": {},
     "output_type": "execute_result"
    }
   ],
   "source": [
    "metrics.accuracy_score(np.argmax(y_test,axis=1),pred)"
   ]
  },
  {
   "cell_type": "markdown",
   "metadata": {},
   "source": [
    "# Dense NN Keras"
   ]
  },
  {
   "cell_type": "code",
   "execution_count": 21,
   "metadata": {},
   "outputs": [
    {
     "name": "stderr",
     "output_type": "stream",
     "text": [
      "Using TensorFlow backend.\n"
     ]
    }
   ],
   "source": [
    "import pandas as pd\n",
    "import numpy as np\n",
    "\n",
    "from sklearn.model_selection import train_test_split\n",
    "from sklearn.preprocessing import StandardScaler, MinMaxScaler\n",
    "from sklearn import metrics\n",
    "\n",
    "import matplotlib.pyplot as plt\n",
    "import seaborn as sns\n",
    "\n",
    "import keras\n",
    "from keras import regularizers, optimizers\n",
    "\n",
    "from keras.utils import to_categorical\n",
    "from keras.models import Sequential\n",
    "from keras.layers import Dense,Dropout\n",
    "from keras.callbacks import EarlyStopping"
   ]
  },
  {
   "cell_type": "code",
   "execution_count": 22,
   "metadata": {},
   "outputs": [],
   "source": [
    "Training = pd.read_csv('./train.csv')\n",
    "Validation = pd.read_csv('./test.csv')"
   ]
  },
  {
   "cell_type": "code",
   "execution_count": 23,
   "metadata": {},
   "outputs": [],
   "source": [
    "#train test split with one hot encoded y's\n",
    "X_train,X_test,y_train,y_test = train_test_split(Training.drop('label',axis=1),to_categorical(Training.label))"
   ]
  },
  {
   "cell_type": "code",
   "execution_count": 24,
   "metadata": {},
   "outputs": [],
   "source": [
    "#mm = MinMaxScaler()\n",
    "#X_train = mm.fit_transform(X_train)\n",
    "#X_test = mm.transform(X_test)\n",
    "\n",
    "X_train = X_train/255.0\n",
    "X_test = X_test/255.0"
   ]
  },
  {
   "cell_type": "code",
   "execution_count": 25,
   "metadata": {},
   "outputs": [],
   "source": [
    "#if we want to adjust the learning rate - the difference per steps\n",
    "#if we want to add regularization to avoid fitting issues\n",
    "adam = optimizers.Adam(lr=0.01)\n",
    "l2 = regularizers.l2(0.0001)"
   ]
  },
  {
   "cell_type": "code",
   "execution_count": 26,
   "metadata": {},
   "outputs": [],
   "source": [
    "model = Sequential()\n",
    "\n",
    "n_input = X_train.shape[1]\n",
    "n_hidden = 256\n",
    "n_output = y_train.shape[1]\n",
    "\n",
    "#here we gen the topology\n",
    "model.add(Dense(n_hidden,input_dim=n_input,\n",
    "                activation='sigmoid',kernel_regularizer = l2))\n",
    "model.add(Dropout(.8))\n",
    "model.add(Dense(n_hidden,input_dim=n_input,\n",
    "                activation='sigmoid',kernel_regularizer = l2))\n",
    "model.add(Dense(n_output, \n",
    "                activation='softmax'))\n",
    "\n",
    "model.compile(loss='categorical_crossentropy', \n",
    "              optimizer=adam)\n",
    "\n",
    "#here we add early stopping so we can stop once \n",
    "#we are overfitting to the training data\n",
    "early_stop = EarlyStopping(monitor='val_loss', min_delta=0.001, patience=5)\n",
    "callbacks_list = [early_stop]\n",
    "\n",
    "history = model.fit(X_train, y_train, validation_data=(X_test, y_test), \n",
    "                    epochs=100, \n",
    "                    batch_size=128, callbacks=callbacks_list, verbose =0)"
   ]
  },
  {
   "cell_type": "code",
   "execution_count": 27,
   "metadata": {},
   "outputs": [
    {
     "data": {
      "text/plain": [
       "<matplotlib.legend.Legend at 0x1a2a307780>"
      ]
     },
     "execution_count": 27,
     "metadata": {},
     "output_type": "execute_result"
    },
    {
     "data": {
      "image/png": "[encoded data removed]",
      "text/plain": [
       "<matplotlib.figure.Figure at 0x1a1ab62b00>"
      ]
     },
     "metadata": {},
     "output_type": "display_data"
    }
   ],
   "source": [
    "train_loss = history.history['loss']\n",
    "test_loss = history.history['val_loss']\n",
    "plt.plot(train_loss, label='Training loss')\n",
    "plt.plot(test_loss, label='Testing loss')\n",
    "plt.xticks(history.epoch)\n",
    "plt.grid()\n",
    "plt.legend()"
   ]
  },
  {
   "cell_type": "code",
   "execution_count": 28,
   "metadata": {},
   "outputs": [],
   "source": [
    "#we want to keep our testing loss as low as possible.\n",
    "#if it does not converge, that means... \n",
    "# not enough epochs, too much regularization, complexity, a whole slew of reasons\n",
    "#... biggest of all is likely because dense NN are not great for images\n",
    "# thats what CNNs are for"
   ]
  },
  {
   "cell_type": "code",
   "execution_count": 29,
   "metadata": {},
   "outputs": [
    {
     "data": {
      "text/plain": [
       "array([[1028,    0,    0,    0,    3,    1,   13,    0,    2,    1],\n",
       "       [   0, 1175,    2,    1,    4,    3,    2,    3,    5,    0],\n",
       "       [  10,   10,  916,    2,   23,    1,   18,   21,   10,    1],\n",
       "       [   6,   11,   41,  951,    0,   57,    2,    7,   15,   14],\n",
       "       [   1,    3,    4,    0, 1024,    0,    9,    1,    2,   10],\n",
       "       [   8,    8,    1,    6,   11,  882,   30,    4,    3,    6],\n",
       "       [   8,    2,    0,    0,    7,    4,  997,    0,    0,    0],\n",
       "       [   1,   10,    9,    0,   10,    1,    1, 1046,    2,   13],\n",
       "       [   8,   15,    6,   12,   11,   20,   30,    3,  844,   32],\n",
       "       [   9,    4,    1,   11,  104,    6,    1,   25,    4,  871]])"
      ]
     },
     "execution_count": 29,
     "metadata": {},
     "output_type": "execute_result"
    }
   ],
   "source": [
    "metrics.confusion_matrix(np.argmax(y_test,axis=1),model.predict_classes(X_test))"
   ]
  },
  {
   "cell_type": "code",
   "execution_count": 30,
   "metadata": {},
   "outputs": [
    {
     "data": {
      "text/plain": [
       "0.927047619047619"
      ]
     },
     "execution_count": 30,
     "metadata": {},
     "output_type": "execute_result"
    }
   ],
   "source": [
    "metrics.accuracy_score(np.argmax(y_test,axis=1),model.predict_classes(X_test))"
   ]
  },
  {
   "cell_type": "code",
   "execution_count": 31,
   "metadata": {},
   "outputs": [],
   "source": [
    "#loss: 0.6971 - val_loss: 0.4636 @ adam = .01, l2=0.0001, nhid = 128, 2 layers - met.acc = 0.932\n",
    "#loss: 0.9854 - val_loss: 0.6270 @ adam = .01, l2=0.0001, nhid = 128, 3 layers - met.acc = 0.909\n",
    "#loss: 0.6683 - val_loss: 0.4834 @ adam = .01, l2=0.0001, nhid = 256, 2 layers - met.acc = 0.935\n",
    "#loss: 0.9721 - val_loss: 0.7077 @ adam = .01, l2=0.0001, nhid = 256, 3 layers - met.acc = 0.919"
   ]
  },
  {
   "cell_type": "markdown",
   "metadata": {},
   "source": [
    "# Keras CNN"
   ]
  },
  {
   "cell_type": "code",
   "execution_count": 32,
   "metadata": {},
   "outputs": [],
   "source": [
    "# 1. Import libraries and modules\n",
    "import matplotlib.pyplot as plt\n",
    "import numpy as np\n",
    "np.random.seed(123)  # for reproducibility\n",
    "\n",
    "from keras.models import Sequential\n",
    "from keras.layers import Dense, Dropout, Activation, Flatten\n",
    "from keras import regularizers, optimizers\n",
    "from keras.layers import Convolution2D, MaxPooling2D\n",
    "from keras.utils import np_utils\n",
    "from keras.datasets import mnist\n",
    "\n",
    "from sklearn.metrics import confusion_matrix, accuracy_score, classification_report\n",
    "\n",
    "from keras.callbacks import EarlyStopping\n",
    " \n",
    "# 2. Load pre-shuffled MNIST data into train and test sets\n",
    "train = pd.read_csv('./train.csv')\n",
    "X_target = pd.read_csv('./test.csv')\n",
    "\n",
    "y = train['label']\n",
    "X = train.drop('label',axis=1)\n",
    "\n",
    "#One Hot Encoded Targets\n",
    "y = pd.get_dummies(y).values"
   ]
  },
  {
   "cell_type": "code",
   "execution_count": 58,
   "metadata": {},
   "outputs": [],
   "source": [
    "X_train, X_test, y_train, y_test = train_test_split(X.values,y,test_size=(0.2))"
   ]
  },
  {
   "cell_type": "code",
   "execution_count": 59,
   "metadata": {},
   "outputs": [],
   "source": [
    "#if i want to use the entire mnist dataset\n",
    "#kaggle added some but not all\n",
    "#(X_train, y_train), (X_test, y_test) = mnist.load_data()"
   ]
  },
  {
   "cell_type": "code",
   "execution_count": 60,
   "metadata": {},
   "outputs": [],
   "source": [
    "#preprocess input data\n",
    "X_train = X_train.reshape(X_train.shape[0],28,28,1)\n",
    "X_test = X_test.reshape(X_test.shape[0],28,28,1)\n",
    "      \n",
    "X_train = X_train.astype('float32')\n",
    "X_test = X_test.astype('float32')\n",
    "\n",
    "X_train /= 255\n",
    "X_test /= 255"
   ]
  },
  {
   "cell_type": "code",
   "execution_count": 62,
   "metadata": {},
   "outputs": [],
   "source": [
    "adam = optimizers.Adam(lr=0.01)\n",
    "l2 = regularizers.l2(0.1)"
   ]
  },
  {
   "cell_type": "code",
   "execution_count": 63,
   "metadata": {},
   "outputs": [],
   "source": [
    "# Model topology & building\n",
    "model = Sequential()"
   ]
  },
  {
   "cell_type": "code",
   "execution_count": 64,
   "metadata": {},
   "outputs": [],
   "source": [
    "model.add(Convolution2D(filters = 6, \n",
    "                        kernel_size = 3,\n",
    "                       activation = 'relu', \n",
    "                        input_shape = (28,28,1),\n",
    "                       padding = 'same'))\n",
    "model.add(MaxPooling2D( pool_size= (2,2)))\n",
    "model.add(Dropout(0.3))"
   ]
  },
  {
   "cell_type": "code",
   "execution_count": 65,
   "metadata": {},
   "outputs": [],
   "source": [
    "model.add(Convolution2D(filters = 6, \n",
    "                        kernel_size = 3,\n",
    "                       activation = 'relu',\n",
    "                       padding = 'same'))\n",
    "model.add(MaxPooling2D( pool_size= (2,2)))\n",
    "model.add(Flatten())\n",
    "model.add(Dropout(0.5))"
   ]
  },
  {
   "cell_type": "code",
   "execution_count": 66,
   "metadata": {},
   "outputs": [],
   "source": [
    "model.add(Dense(528, \n",
    "                activation='relu'))\n",
    "model.add(Dropout(0.25))\n",
    "\n",
    "model.add(Dense(256, \n",
    "                activation='relu'))\n",
    "model.add(Dropout(0.25))\n",
    "\n",
    "model.add(Dense(128, \n",
    "                activation='relu'))"
   ]
  },
  {
   "cell_type": "code",
   "execution_count": 67,
   "metadata": {},
   "outputs": [],
   "source": [
    "model.add(Dense(10, \n",
    "                activation='softmax'))"
   ]
  },
  {
   "cell_type": "code",
   "execution_count": null,
   "metadata": {},
   "outputs": [],
   "source": []
  },
  {
   "cell_type": "code",
   "execution_count": 68,
   "metadata": {},
   "outputs": [],
   "source": [
    "#COMPILE\n",
    "model.compile(loss = 'categorical_crossentropy',\n",
    "              metrics=['accuracy'],\n",
    "             optimizer = adam)\n",
    "\n",
    "early_stop = EarlyStopping(monitor='val_loss', min_delta=1, patience=10)\n",
    "\n",
    "callbacks_list = [early_stop]"
   ]
  },
  {
   "cell_type": "code",
   "execution_count": 69,
   "metadata": {},
   "outputs": [
    {
     "name": "stdout",
     "output_type": "stream",
     "text": [
      "Train on 33600 samples, validate on 8400 samples\n",
      "Epoch 1/50\n",
      "33600/33600 [==============================] - 58s 2ms/step - loss: 0.6229 - acc: 0.7962 - val_loss: 0.1498 - val_acc: 0.9582\n",
      "Epoch 2/50\n",
      "33600/33600 [==============================] - 44s 1ms/step - loss: 0.3366 - acc: 0.8955 - val_loss: 0.1322 - val_acc: 0.9632\n",
      "Epoch 3/50\n",
      "33600/33600 [==============================] - 51s 2ms/step - loss: 0.3147 - acc: 0.9039 - val_loss: 0.1371 - val_acc: 0.9630\n",
      "Epoch 4/50\n",
      "33600/33600 [==============================] - 51s 2ms/step - loss: 0.2981 - acc: 0.9094 - val_loss: 0.1173 - val_acc: 0.9681\n",
      "Epoch 5/50\n",
      "33600/33600 [==============================] - 46s 1ms/step - loss: 0.2783 - acc: 0.9163 - val_loss: 0.1084 - val_acc: 0.9707\n",
      "Epoch 6/50\n",
      "33600/33600 [==============================] - 33s 991us/step - loss: 0.2685 - acc: 0.9194 - val_loss: 0.1190 - val_acc: 0.9677\n",
      "Epoch 7/50\n",
      "33600/33600 [==============================] - 42s 1ms/step - loss: 0.2577 - acc: 0.9232 - val_loss: 0.1080 - val_acc: 0.9687\n",
      "Epoch 8/50\n",
      "33600/33600 [==============================] - 55s 2ms/step - loss: 0.2543 - acc: 0.9239 - val_loss: 0.0893 - val_acc: 0.9752\n",
      "Epoch 9/50\n",
      "33600/33600 [==============================] - 47s 1ms/step - loss: 0.2644 - acc: 0.9193 - val_loss: 0.1182 - val_acc: 0.9690\n",
      "Epoch 10/50\n",
      "33600/33600 [==============================] - 37s 1ms/step - loss: 0.2514 - acc: 0.9236 - val_loss: 0.0856 - val_acc: 0.9748\n",
      "Epoch 11/50\n",
      "33600/33600 [==============================] - 50s 1ms/step - loss: 0.2390 - acc: 0.9299 - val_loss: 0.1009 - val_acc: 0.9740\n",
      "Epoch 12/50\n",
      "33600/33600 [==============================] - 62s 2ms/step - loss: 0.2503 - acc: 0.9248 - val_loss: 0.0879 - val_acc: 0.9749\n",
      "Epoch 13/50\n",
      "33600/33600 [==============================] - 48s 1ms/step - loss: 0.2320 - acc: 0.9301 - val_loss: 0.0894 - val_acc: 0.9754\n",
      "Epoch 14/50\n",
      "33600/33600 [==============================] - 40s 1ms/step - loss: 0.2290 - acc: 0.9302 - val_loss: 0.0900 - val_acc: 0.9763\n",
      "Epoch 15/50\n",
      "33600/33600 [==============================] - 41s 1ms/step - loss: 0.2432 - acc: 0.9293 - val_loss: 0.0855 - val_acc: 0.9770\n",
      "Epoch 16/50\n",
      "33600/33600 [==============================] - 47s 1ms/step - loss: 0.2276 - acc: 0.9332 - val_loss: 0.0780 - val_acc: 0.9777\n",
      "Epoch 17/50\n",
      "33600/33600 [==============================] - 44s 1ms/step - loss: 0.2241 - acc: 0.9351 - val_loss: 0.0909 - val_acc: 0.9745\n",
      "Epoch 18/50\n",
      "33600/33600 [==============================] - 45s 1ms/step - loss: 0.2366 - acc: 0.9309 - val_loss: 0.0920 - val_acc: 0.9736\n",
      "Epoch 19/50\n",
      "33600/33600 [==============================] - 41s 1ms/step - loss: 0.2323 - acc: 0.9330 - val_loss: 0.1044 - val_acc: 0.9740\n",
      "Epoch 20/50\n",
      "33600/33600 [==============================] - 38s 1ms/step - loss: 0.2300 - acc: 0.9350 - val_loss: 0.0846 - val_acc: 0.9783\n",
      "Epoch 21/50\n",
      "33600/33600 [==============================] - 34s 1ms/step - loss: 0.2189 - acc: 0.9361 - val_loss: 0.0732 - val_acc: 0.9795\n",
      "Epoch 22/50\n",
      "33600/33600 [==============================] - 34s 1ms/step - loss: 0.2197 - acc: 0.9354 - val_loss: 0.0804 - val_acc: 0.9793\n",
      "Epoch 23/50\n",
      "33600/33600 [==============================] - 36s 1ms/step - loss: 0.2234 - acc: 0.9355 - val_loss: 0.0791 - val_acc: 0.9794\n",
      "Epoch 24/50\n",
      "33600/33600 [==============================] - 54s 2ms/step - loss: 0.2227 - acc: 0.9354 - val_loss: 0.0839 - val_acc: 0.9750\n",
      "Epoch 25/50\n",
      "33600/33600 [==============================] - 45s 1ms/step - loss: 0.2208 - acc: 0.9366 - val_loss: 0.0875 - val_acc: 0.9779\n",
      "Epoch 26/50\n",
      "33600/33600 [==============================] - 40s 1ms/step - loss: 0.2231 - acc: 0.9370 - val_loss: 0.0838 - val_acc: 0.9793\n",
      "Epoch 27/50\n",
      "33600/33600 [==============================] - 48s 1ms/step - loss: 0.2320 - acc: 0.9339 - val_loss: 0.0884 - val_acc: 0.9776\n",
      "Epoch 28/50\n",
      "33600/33600 [==============================] - 44s 1ms/step - loss: 0.2265 - acc: 0.9344 - val_loss: 0.0769 - val_acc: 0.9793\n",
      "Epoch 29/50\n",
      "33600/33600 [==============================] - 49s 1ms/step - loss: 0.2093 - acc: 0.9399 - val_loss: 0.0872 - val_acc: 0.9775\n",
      "Epoch 30/50\n",
      "33600/33600 [==============================] - 45s 1ms/step - loss: 0.2310 - acc: 0.9354 - val_loss: 0.0709 - val_acc: 0.9805\n",
      "Epoch 31/50\n",
      "33600/33600 [==============================] - 46s 1ms/step - loss: 0.2251 - acc: 0.9354 - val_loss: 0.0738 - val_acc: 0.9801\n",
      "Epoch 32/50\n",
      "33600/33600 [==============================] - 49s 1ms/step - loss: 0.2363 - acc: 0.9327 - val_loss: 0.0738 - val_acc: 0.9801\n",
      "Epoch 33/50\n",
      "33600/33600 [==============================] - 50s 1ms/step - loss: 0.2213 - acc: 0.9377 - val_loss: 0.0811 - val_acc: 0.9796\n",
      "Epoch 34/50\n",
      "33600/33600 [==============================] - 41s 1ms/step - loss: 0.2226 - acc: 0.9377 - val_loss: 0.0772 - val_acc: 0.9786\n",
      "Epoch 35/50\n",
      "33600/33600 [==============================] - 42s 1ms/step - loss: 0.2204 - acc: 0.9375 - val_loss: 0.0747 - val_acc: 0.9807\n",
      "Epoch 36/50\n",
      "33600/33600 [==============================] - 40s 1ms/step - loss: 0.2223 - acc: 0.9376 - val_loss: 0.0748 - val_acc: 0.9824\n",
      "Epoch 37/50\n",
      "33600/33600 [==============================] - 37s 1ms/step - loss: 0.2127 - acc: 0.9381 - val_loss: 0.0802 - val_acc: 0.9804\n",
      "Epoch 38/50\n",
      "33600/33600 [==============================] - 36s 1ms/step - loss: 0.2121 - acc: 0.9415 - val_loss: 0.0781 - val_acc: 0.9800\n",
      "Epoch 39/50\n",
      "33600/33600 [==============================] - 39s 1ms/step - loss: 0.2121 - acc: 0.9399 - val_loss: 0.0789 - val_acc: 0.9792\n",
      "Epoch 40/50\n",
      "33600/33600 [==============================] - 49s 1ms/step - loss: 0.2130 - acc: 0.9412 - val_loss: 0.0788 - val_acc: 0.9786\n",
      "Epoch 41/50\n",
      "33600/33600 [==============================] - 51s 2ms/step - loss: 0.2223 - acc: 0.9380 - val_loss: 0.0816 - val_acc: 0.9798\n",
      "Epoch 42/50\n",
      "33600/33600 [==============================] - 47s 1ms/step - loss: 0.2189 - acc: 0.9387 - val_loss: 0.0861 - val_acc: 0.9765\n",
      "Epoch 43/50\n",
      "33600/33600 [==============================] - 39s 1ms/step - loss: 0.2131 - acc: 0.9410 - val_loss: 0.0720 - val_acc: 0.9804\n",
      "Epoch 44/50\n",
      "33600/33600 [==============================] - 41s 1ms/step - loss: 0.2158 - acc: 0.9375 - val_loss: 0.0778 - val_acc: 0.9792\n",
      "Epoch 45/50\n",
      "33600/33600 [==============================] - 43s 1ms/step - loss: 0.2030 - acc: 0.9430 - val_loss: 0.0734 - val_acc: 0.9796\n",
      "Epoch 46/50\n",
      "33600/33600 [==============================] - 40s 1ms/step - loss: 0.2134 - acc: 0.9406 - val_loss: 0.0855 - val_acc: 0.9767\n",
      "Epoch 47/50\n",
      "33600/33600 [==============================] - 44s 1ms/step - loss: 0.2110 - acc: 0.9391 - val_loss: 0.0841 - val_acc: 0.9798\n",
      "Epoch 48/50\n",
      "33600/33600 [==============================] - 45s 1ms/step - loss: 0.2034 - acc: 0.9432 - val_loss: 0.0695 - val_acc: 0.9800\n",
      "Epoch 49/50\n",
      "33600/33600 [==============================] - 44s 1ms/step - loss: 0.2026 - acc: 0.9420 - val_loss: 0.0726 - val_acc: 0.9805\n",
      "Epoch 50/50\n",
      "33600/33600 [==============================] - 37s 1ms/step - loss: 0.2004 - acc: 0.9437 - val_loss: 0.0783 - val_acc: 0.9786\n"
     ]
    }
   ],
   "source": [
    "# 7. Fit model on training data\n",
    "history = model.fit(X_train, y_train, validation_data=(X_test, y_test), epochs=50, \n",
    "                    batch_size=256,  verbose =1)"
   ]
  },
  {
   "cell_type": "code",
   "execution_count": 70,
   "metadata": {},
   "outputs": [
    {
     "data": {
      "image/png": "[encoded data removed]",
      "text/plain": [
       "<matplotlib.figure.Figure at 0x1a2b2f8358>"
      ]
     },
     "metadata": {},
     "output_type": "display_data"
    }
   ],
   "source": [
    "train_loss = history.history['loss']\n",
    "test_loss = history.history['val_loss']\n",
    "plt.plot(train_loss, label='Training loss')\n",
    "plt.plot(test_loss, label='Testing loss')\n",
    "plt.xticks(history.epoch)\n",
    "plt.title('Loss')\n",
    "plt.grid()\n",
    "plt.legend();"
   ]
  },
  {
   "cell_type": "code",
   "execution_count": 71,
   "metadata": {},
   "outputs": [
    {
     "data": {
      "image/png": "[encoded data removed]",
      "text/plain": [
       "<matplotlib.figure.Figure at 0x1a2af59080>"
      ]
     },
     "metadata": {},
     "output_type": "display_data"
    }
   ],
   "source": [
    "plt.figure()\n",
    "plt.plot(history.history['acc'])\n",
    "plt.plot(history.history['val_acc'])\n",
    "plt.title('model accuracy')\n",
    "plt.ylabel('accuracy')\n",
    "plt.xlabel('epoch')\n",
    "plt.xticks(history.epoch)\n",
    "plt.xlim()\n",
    "plt.legend(['train', 'test'], loc='best')\n",
    "plt.show();"
   ]
  },
  {
   "cell_type": "code",
   "execution_count": 78,
   "metadata": {},
   "outputs": [
    {
     "data": {
      "text/plain": [
       "array([[809,   0,   0,   0,   0,   0,   2,   0,   0,   2],\n",
       "       [  0, 913,   5,   0,   2,   0,   1,   1,   3,   2],\n",
       "       [  1,   1, 834,   3,   0,   0,   0,   4,   7,   2],\n",
       "       [  0,   0,   2, 817,   0,   1,   1,   1,  12,   9],\n",
       "       [  0,   0,   0,   0, 824,   0,   3,   0,   2,  16],\n",
       "       [  2,   0,   0,   2,   0, 730,   5,   0,   5,   6],\n",
       "       [  1,   0,   1,   1,   0,   0, 854,   0,   6,   0],\n",
       "       [  0,   3,   5,   2,   1,   0,   0, 854,   3,   8],\n",
       "       [  1,   5,   3,   1,   1,   3,   4,   4, 769,   7],\n",
       "       [  1,   1,   0,   0,   4,   0,   0,   6,   5, 816]])"
      ]
     },
     "execution_count": 78,
     "metadata": {},
     "output_type": "execute_result"
    }
   ],
   "source": [
    "confusion_matrix(np.argmax(y_test,axis=1),model.predict_classes(X_test))"
   ]
  },
  {
   "cell_type": "code",
   "execution_count": 79,
   "metadata": {},
   "outputs": [
    {
     "data": {
      "text/plain": [
       "0.9785714285714285"
      ]
     },
     "execution_count": 79,
     "metadata": {},
     "output_type": "execute_result"
    }
   ],
   "source": [
    "accuracy_score(np.argmax(y_test,axis=1),model.predict_classes(X_test))"
   ]
  },
  {
   "cell_type": "code",
   "execution_count": null,
   "metadata": {},
   "outputs": [],
   "source": [
    "#|0.9235| loss: 1.0872 - val_loss: 0.4303 @ adam = .01, 2convo - d - hid(128) - d - out\n",
    "#|bad   | loss: bad - val_loss: bad @ adam = .01, 2convo - d - hid(128)(l2=0.001) - d - hid2(128) - out\n",
    "\n",
    "#|0.9235| loss: 1.0872 - val_loss: 0.4303 @ adam = .01, 2convo - hid(128) - d - hid2(128) - d - out\n",
    "#|0.9556| loss: 0.5472 - val_loss: 0.1765 @ adam = .01, 2convo - hid(128) - d - hid2(128) - d - hid3(128) - out\n",
    "\n",
    "#|0.9812| loss: 0.1270 - val_loss: 0.0645 @ 2convo - hid(128) - d(0.5) - hid(128) - d(0.5) - hid2(128) - out\n",
    "#|0.9814| loss: 0.1216 - val_loss: 0.0775 @ 2convo - hid(256) - d(0.5) - hid(128) - d(0.5) - hid2(128) - out\n",
    "#|0.9828| loss: 0.1230 - val_loss: 0.0627 @ 2convo - hid(256) - d(0.5) - hid(256) - d(0.5) - hid2(128) - out(5epoch)\n",
    "\n",
    "#|0.9816| loss: 0.1051 - val_loss: 0.0680 @ 2convo - hid(256) - d(0.4) - hid(256) - d(0.4) - hid2(128) - out(5epoch)\n",
    "#|0.9816| loss: 0.1005 - val_loss: 0.0630 @ 2convo - hid(256) - d(0.3) - hid(256) - d(0.4) - hid2(128) - out(4epoch)\n",
    "#|0.9843| loss: 0.0751 - val_loss: 0.0627 @ 2convo - hid(256) - d(0.25) - hid(256) - d(0.3) - hid2(128) - out(7ish)\n",
    "\n",
    "#|0.9825| loss: 0.1271 - val_loss: 0.0536 @ convo-d(0.25)-convo - hid(256) - d(0.25) - hid(256) - d(0.25) - hid2(128) - out()"
   ]
  },
  {
   "cell_type": "markdown",
   "metadata": {},
   "source": [
    "# TensorFlow CNN"
   ]
  },
  {
   "cell_type": "code",
   "execution_count": null,
   "metadata": {},
   "outputs": [],
   "source": [
    "import tensorflow as tf\n",
    "\n",
    "from sklearn.model_selection import train_test_split\n",
    "from sklearn.preprocessing import StandardScaler\n",
    "from sklearn import metrics\n",
    "\n",
    "import matplotlib.pyplot as plt\n",
    "import seaborn as sns\n",
    "\n",
    "%matplotlib inline\n",
    "\n",
    "import pandas as pd\n",
    "import numpy as np"
   ]
  },
  {
   "cell_type": "code",
   "execution_count": null,
   "metadata": {},
   "outputs": [],
   "source": [
    "Training = pd.read_csv('./train.csv')\n",
    "X_target = pd.read_csv('./test.csv')"
   ]
  },
  {
   "cell_type": "code",
   "execution_count": null,
   "metadata": {},
   "outputs": [],
   "source": [
    "y = Training['label']\n",
    "X = Training.drop('label',axis=1)\n",
    "y = pd.get_dummies(y).values"
   ]
  },
  {
   "cell_type": "code",
   "execution_count": null,
   "metadata": {},
   "outputs": [],
   "source": [
    "X_train, X_test, y_train, y_test = train_test_split(X,y,test_size=(0.1))"
   ]
  },
  {
   "cell_type": "code",
   "execution_count": 39,
   "metadata": {},
   "outputs": [],
   "source": [
    "# Min/Max Scaling\n",
    "X_train = X_train.values/255.0\n",
    "X_test = X_test.values/255.0"
   ]
  },
  {
   "cell_type": "code",
   "execution_count": null,
   "metadata": {},
   "outputs": [],
   "source": [
    "# Parameters\n",
    "img_size = 28\n",
    "img_size_flat = img_size * img_size\n",
    "n_labels = 10 #0-9\n",
    "\n",
    "# \n",
    "lr = 0.01\n",
    "n_nodes = 100\n",
    "epochs = 10\n",
    "stride = 5"
   ]
  },
  {
   "cell_type": "code",
   "execution_count": 90,
   "metadata": {},
   "outputs": [],
   "source": [
    "tf.reset_default_graph()\n",
    "\n",
    "x = tf.placeholder(tf.float32,shape=[None,784])\n",
    "y = tf.placeholder(tf.float32,shape=[None,10])\n",
    "x_image = tf.reshape(x,[-1,28,28,1])"
   ]
  },
  {
   "cell_type": "code",
   "execution_count": 91,
   "metadata": {},
   "outputs": [],
   "source": [
    "conv1 = tf.layers.conv2d(\n",
    "    inputs=x_image,\n",
    "    filters=32,\n",
    "    kernel_size=[5, 5],\n",
    "    padding=\"same\",\n",
    "    activation=tf.nn.relu)\n",
    "pool1 = tf.layers.max_pooling2d(inputs=conv1, pool_size=[2, 2], strides=2)"
   ]
  },
  {
   "cell_type": "code",
   "execution_count": 92,
   "metadata": {},
   "outputs": [],
   "source": [
    "conv2 = tf.layers.conv2d(\n",
    "    inputs=x_image,\n",
    "    filters=32,\n",
    "    kernel_size=[5, 5],\n",
    "    padding=\"same\",\n",
    "    activation=tf.nn.relu)\n",
    "pool2 = tf.layers.max_pooling2d(inputs=pool1, pool_size=[2, 2], strides=2)"
   ]
  },
  {
   "cell_type": "code",
   "execution_count": 93,
   "metadata": {},
   "outputs": [],
   "source": [
    "pool2_flat = tf.reshape(pool2, [-1, 7 * 7 * 64])"
   ]
  },
  {
   "cell_type": "code",
   "execution_count": 94,
   "metadata": {},
   "outputs": [],
   "source": [
    "dense = tf.layers.dense(inputs=pool2_flat, units=1024, activation=tf.nn.relu)"
   ]
  },
  {
   "cell_type": "code",
   "execution_count": 95,
   "metadata": {},
   "outputs": [],
   "source": [
    "dropout = tf.layers.dropout(inputs=dense, rate=0.4)"
   ]
  },
  {
   "cell_type": "code",
   "execution_count": 96,
   "metadata": {},
   "outputs": [],
   "source": [
    "logits = tf.layers.dense(inputs=dropout, units=10)"
   ]
  },
  {
   "cell_type": "code",
   "execution_count": 97,
   "metadata": {},
   "outputs": [],
   "source": [
    "#tf.argmax(input=logits, axis=1)"
   ]
  },
  {
   "cell_type": "code",
   "execution_count": 98,
   "metadata": {},
   "outputs": [],
   "source": [
    "#tf.nn.softmax(logits, name=\"softmax_tensor\")"
   ]
  },
  {
   "cell_type": "code",
   "execution_count": 99,
   "metadata": {},
   "outputs": [],
   "source": [
    "predictions = {\n",
    "    \"classes\": tf.argmax(input=logits, axis=1),\n",
    "    \"probabilities\": tf.nn.softmax(logits, name=\"softmax_tensor\")}"
   ]
  },
  {
   "cell_type": "code",
   "execution_count": 100,
   "metadata": {},
   "outputs": [],
   "source": [
    "loss = tf.losses.softmax_cross_entropy(y, logits)\n",
    "\n",
    "learning_rate = 0.1\n",
    "optimizer = tf.train.AdamOptimizer(learning_rate)"
   ]
  },
  {
   "cell_type": "code",
   "execution_count": 101,
   "metadata": {},
   "outputs": [],
   "source": [
    "training_op = optimizer.minimize(loss)"
   ]
  },
  {
   "cell_type": "code",
   "execution_count": 105,
   "metadata": {},
   "outputs": [
    {
     "data": {
      "text/plain": [
       "'\\ntrain_input_fn = tf.estimator.inputs.numpy_input_fn(\\n    x={\"x\": X_train},\\n    y=y_train,\\n    batch_size=100,\\n    num_epochs=10,\\n    shuffle=True)\\n'"
      ]
     },
     "execution_count": 105,
     "metadata": {},
     "output_type": "execute_result"
    }
   ],
   "source": [
    "\n",
    "\"\"\"\n",
    "train_input_fn = tf.estimator.inputs.numpy_input_fn(\n",
    "    x={\"x\": X_train},\n",
    "    y=y_train,\n",
    "    batch_size=100,\n",
    "    num_epochs=10,\n",
    "    shuffle=True)\n",
    "\"\"\""
   ]
  },
  {
   "cell_type": "code",
   "execution_count": 106,
   "metadata": {},
   "outputs": [
    {
     "ename": "TypeError",
     "evalue": "'DataFrame' objects are mutable, thus they cannot be hashed",
     "output_type": "error",
     "traceback": [
      "\u001b[0;31m---------------------------------------------------------------------------\u001b[0m",
      "\u001b[0;31mTypeError\u001b[0m                                 Traceback (most recent call last)",
      "\u001b[0;32m<ipython-input-106-be6a27cd60a4>\u001b[0m in \u001b[0;36m<module>\u001b[0;34m()\u001b[0m\n\u001b[1;32m     10\u001b[0m     \u001b[0;32mfor\u001b[0m \u001b[0mepoch\u001b[0m \u001b[0;32min\u001b[0m \u001b[0mrange\u001b[0m\u001b[0;34m(\u001b[0m\u001b[0;36m15\u001b[0m\u001b[0;34m)\u001b[0m\u001b[0;34m:\u001b[0m\u001b[0;34m\u001b[0m\u001b[0m\n\u001b[1;32m     11\u001b[0m         sess.run(training_op,\n\u001b[0;32m---> 12\u001b[0;31m                  feed_dict={X:X_train, y:y_train})\n\u001b[0m\u001b[1;32m     13\u001b[0m         train_loss = sess.run(loss, \n\u001b[1;32m     14\u001b[0m                               feed_dict={X:X_train, y:y_train})\n",
      "\u001b[0;32m~/anaconda3/envs/NN/lib/python3.6/site-packages/pandas/core/generic.py\u001b[0m in \u001b[0;36m__hash__\u001b[0;34m(self)\u001b[0m\n\u001b[1;32m   1043\u001b[0m     \u001b[0;32mdef\u001b[0m \u001b[0m__hash__\u001b[0m\u001b[0;34m(\u001b[0m\u001b[0mself\u001b[0m\u001b[0;34m)\u001b[0m\u001b[0;34m:\u001b[0m\u001b[0;34m\u001b[0m\u001b[0m\n\u001b[1;32m   1044\u001b[0m         raise TypeError('{0!r} objects are mutable, thus they cannot be'\n\u001b[0;32m-> 1045\u001b[0;31m                         ' hashed'.format(self.__class__.__name__))\n\u001b[0m\u001b[1;32m   1046\u001b[0m \u001b[0;34m\u001b[0m\u001b[0m\n\u001b[1;32m   1047\u001b[0m     \u001b[0;32mdef\u001b[0m \u001b[0m__iter__\u001b[0m\u001b[0;34m(\u001b[0m\u001b[0mself\u001b[0m\u001b[0;34m)\u001b[0m\u001b[0;34m:\u001b[0m\u001b[0;34m\u001b[0m\u001b[0m\n",
      "\u001b[0;31mTypeError\u001b[0m: 'DataFrame' objects are mutable, thus they cannot be hashed"
     ]
    }
   ],
   "source": [
    "\n",
    "init = tf.global_variables_initializer()\n",
    "\n",
    "train_err = []\n",
    "test_err = []\n",
    "\n",
    "with tf.Session() as sess:\n",
    "    init.run()\n",
    "    \n",
    "    for epoch in range(15):\n",
    "        sess.run(training_op,\n",
    "                 feed_dict={X:X_train, y:y_train})\n",
    "        train_loss = sess.run(loss, \n",
    "                              feed_dict={X:X_train, y:y_train})\n",
    "        test_loss = sess.run(loss,\n",
    "                             feed_dict={X:X_test, \n",
    "                                        y:y_test})\n",
    "        train_err.append(train_loss)\n",
    "        test_err.append(test_loss)\n",
    "        \n",
    "        if epoch%5==0:\n",
    "            print('epoch',epoch,train_loss,test_loss)\n",
    "        if test_loss/train_loss>1.02:\n",
    "            print('nope')\n",
    "            break\n",
    "                \n",
    "    pred = sess.run(y_hat, feed_dict={X:X_test})\n",
    "    target_pred = sess.run(y_hat, feed_dict={X:X_target})"
   ]
  },
  {
   "cell_type": "code",
   "execution_count": 81,
   "metadata": {},
   "outputs": [
    {
     "data": {
      "text/plain": [
       "array([0, 0, 0, 0, 0, 0, 0, 1, 0, 0], dtype=uint8)"
      ]
     },
     "execution_count": 81,
     "metadata": {},
     "output_type": "execute_result"
    }
   ],
   "source": [
    "y_train[0]"
   ]
  },
  {
   "cell_type": "code",
   "execution_count": null,
   "metadata": {},
   "outputs": [],
   "source": []
  }
 ],
 "metadata": {
  "kernelspec": {
   "display_name": "Python [conda env:NN]",
   "language": "python",
   "name": "conda-env-NN-py"
  },
  "language_info": {
   "codemirror_mode": {
    "name": "ipython",
    "version": 3
   },
   "file_extension": ".py",
   "mimetype": "text/x-python",
   "name": "python",
   "nbconvert_exporter": "python",
   "pygments_lexer": "ipython3",
   "version": "3.6.4"
  }
 },
 "nbformat": 4,
 "nbformat_minor": 2
}
