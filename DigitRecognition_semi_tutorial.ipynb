{
 "cells": [
  {
   "cell_type": "markdown",
   "metadata": {},
   "source": [
    "# Fun with Neural Nets\n",
    "\n",
    "---\n",
    "#### Tensor & Keras Dense NN\n",
    "##### Not great for images, but still good to kno\n",
    "#### Tensor & Keras CNNs"
   ]
  },
  {
   "cell_type": "markdown",
   "metadata": {},
   "source": [
    "Below is a sorta tutoral for building a neural network to recognize handwritten digits.  The data is from Kaggle!!\n",
    "\n",
    "1. Load the training data (`train.csv`) from Kaggle\n",
    "2. Setup X and y (feature matrix and target vector)\n",
    "3. Split X and y into train and test subsets.\n",
    "4. Preprocess your data\n",
    "\n",
    "   - NNs need values between 0-1 so we need to divide our `X` by the max value of a pixel (255).\n",
    "   - Lucky us, we dont need to use a standard scalar we can just divide by 255\n",
    "   - Since this is a multiclass classification problem, our NN needs our target `y` to be one-hot encoded\n",
    "   \n",
    "5. Create your network.\n",
    "\n",
    "   - Remember that for multi-class classification you need a softamx activation function on the output layer, so they all sum up to 1.\n",
    "\n",
    "6. Trian your network.\n",
    "7. add hidden layers, adding hidden layer units, chaning the activation functions on the hidden layers, have fun.\n",
    "8. Load in Kaggle's `test.csv`\n",
    "9. Create your predictions (these should be numbers in the range 0-9).\n",
    "10. Save your predictions and submit them to Kaggle."
   ]
  },
  {
   "cell_type": "markdown",
   "metadata": {},
   "source": [
    "# TensorFlow Dense"
   ]
  },
  {
   "cell_type": "code",
   "execution_count": 1,
   "metadata": {},
   "outputs": [
    {
     "name": "stderr",
     "output_type": "stream",
     "text": [
      "/Users/Nahel/anaconda3/envs/NN/lib/python3.6/site-packages/h5py/__init__.py:36: FutureWarning: Conversion of the second argument of issubdtype from `float` to `np.floating` is deprecated. In future, it will be treated as `np.float64 == np.dtype(float).type`.\n",
      "  from ._conv import register_converters as _register_converters\n"
     ]
    }
   ],
   "source": [
    "import tensorflow as tf\n",
    "\n",
    "from sklearn.model_selection import train_test_split\n",
    "from sklearn.preprocessing import StandardScaler\n",
    "from sklearn import metrics\n",
    "\n",
    "import matplotlib.pyplot as plt\n",
    "import seaborn as sns\n",
    "\n",
    "%matplotlib inline\n",
    "\n",
    "import pandas as pd\n",
    "import numpy as np"
   ]
  },
  {
   "cell_type": "code",
   "execution_count": 2,
   "metadata": {},
   "outputs": [],
   "source": [
    "train = pd.read_csv('./train.csv')\n",
    "X_target = pd.read_csv('./test.csv')\n",
    "\n",
    "y = train['label']\n",
    "X = train.drop('label',axis=1)\n",
    "#one hot encoding those values\n",
    "y = pd.get_dummies(y).values\n",
    "\n",
    "X_train, X_test, y_train, y_test = train_test_split(X,y)"
   ]
  },
  {
   "cell_type": "code",
   "execution_count": 3,
   "metadata": {},
   "outputs": [],
   "source": [
    "ss= StandardScaler()\n",
    "ss.fit(X_train)\n",
    "X_train = ss.fit_transform(X_train)\n",
    "X_test = ss.transform(X_test)"
   ]
  },
  {
   "cell_type": "code",
   "execution_count": 4,
   "metadata": {},
   "outputs": [],
   "source": [
    "X_target = ss.transform(X_target)"
   ]
  },
  {
   "cell_type": "code",
   "execution_count": 5,
   "metadata": {},
   "outputs": [
    {
     "data": {
      "text/plain": [
       "Text(0.5,1,'28x28 data')"
      ]
     },
     "execution_count": 5,
     "metadata": {},
     "output_type": "execute_result"
    },
    {
     "data": {
      "image/png": "[encoded data removed]",
      "text/plain": [
       "<matplotlib.figure.Figure at 0x1a169cacc0>"
      ]
     },
     "metadata": {},
     "output_type": "display_data"
    }
   ],
   "source": [
    "fig, ax = plt.subplots()\n",
    "ax.imshow(X_train[6].reshape(28,28), cmap='gray')\n",
    "ax.set_title('28x28 data')"
   ]
  },
  {
   "cell_type": "code",
   "execution_count": 6,
   "metadata": {},
   "outputs": [
    {
     "name": "stdout",
     "output_type": "stream",
     "text": [
      "WARNING:tensorflow:From /Users/Nahel/anaconda3/envs/NN/lib/python3.6/site-packages/tensorflow/python/ops/losses/losses_impl.py:691: softmax_cross_entropy_with_logits (from tensorflow.python.ops.nn_ops) is deprecated and will be removed in a future version.\n",
      "Instructions for updating:\n",
      "\n",
      "Future major versions of TensorFlow will allow gradients to flow\n",
      "into the labels input on backprop by default.\n",
      "\n",
      "See tf.nn.softmax_cross_entropy_with_logits_v2.\n",
      "\n"
     ]
    }
   ],
   "source": [
    "tf.reset_default_graph()\n",
    "\n",
    "# create \"placeholders\" for out X matrix and y target\n",
    "X = tf.placeholder(dtype=tf.float32,\n",
    "                   shape=(None,X_train.shape[1]),\n",
    "                   name='X')\n",
    "\n",
    "y = tf.placeholder(dtype=tf.float32,\n",
    "                   shape=(None),\n",
    "                   name='y')\n",
    "\n",
    "# Defined our network topology!!\n",
    "n_hidden = 12\n",
    "n_hidden2 = 10\n",
    "\n",
    "hidden1 = tf.layers.dense(X, units=n_hidden,\n",
    "                          name='hidden1',\n",
    "                          activation=tf.nn.relu)\n",
    "\n",
    "hidden2 = tf.layers.dense(hidden1, units=n_hidden2,\n",
    "                          name='hidden2',\n",
    "                          activation=tf.nn.tanh)\n",
    "\n",
    "y_hat = tf.layers.dense(hidden2,    \n",
    "                        units=y_train.shape[1],\n",
    "                        activation=tf.nn.softmax,\n",
    "                        name='y_hat')\n",
    "\n",
    "# Setup Back-prop/gradient descent\n",
    "loss = tf.losses.softmax_cross_entropy(y, y_hat)\n",
    "\n",
    "learning_rate = 0.1\n",
    "optimizer = tf.train.AdamOptimizer(learning_rate)\n",
    "\n",
    "training_op = optimizer.minimize(loss)"
   ]
  },
  {
   "cell_type": "code",
   "execution_count": 7,
   "metadata": {},
   "outputs": [
    {
     "name": "stdout",
     "output_type": "stream",
     "text": [
      "epoch 0 2.1790109 2.1846917\n",
      "epoch 5 1.804636 1.8141042\n",
      "epoch 10 1.6512923 1.6564226\n"
     ]
    }
   ],
   "source": [
    "init = tf.global_variables_initializer()\n",
    "\n",
    "train_err = []\n",
    "test_err = []\n",
    "\n",
    "with tf.Session() as sess:\n",
    "    init.run()\n",
    "    \n",
    "    for epoch in range(15):\n",
    "        sess.run(training_op,\n",
    "                 feed_dict={X:X_train, y:y_train})\n",
    "        train_loss = sess.run(loss, \n",
    "                              feed_dict={X:X_train, y:y_train})\n",
    "        test_loss = sess.run(loss,\n",
    "                             feed_dict={X:X_test, \n",
    "                                        y:y_test})\n",
    "        train_err.append(train_loss)\n",
    "        test_err.append(test_loss)\n",
    "        \n",
    "        if epoch%5==0:\n",
    "            print('epoch',epoch,train_loss,test_loss)\n",
    "        if test_loss/train_loss>1.02:\n",
    "            print('nope')\n",
    "            break\n",
    "                \n",
    "    pred = sess.run(y_hat, feed_dict={X:X_test})\n",
    "    target_pred = sess.run(y_hat, feed_dict={X:X_target})"
   ]
  },
  {
   "cell_type": "code",
   "execution_count": 8,
   "metadata": {},
   "outputs": [
    {
     "data": {
      "text/plain": [
       "<matplotlib.legend.Legend at 0x1a1f052358>"
      ]
     },
     "execution_count": 8,
     "metadata": {},
     "output_type": "execute_result"
    },
    {
     "data": {
      "image/png": "[encoded data removed]",
      "text/plain": [
       "<matplotlib.figure.Figure at 0x1a169ca588>"
      ]
     },
     "metadata": {},
     "output_type": "display_data"
    }
   ],
   "source": [
    "plt.plot(train_err, label='Training err')\n",
    "plt.plot(test_err, label='Testing err')\n",
    "plt.legend()"
   ]
  },
  {
   "cell_type": "code",
   "execution_count": 9,
   "metadata": {},
   "outputs": [],
   "source": [
    "#target pred is the validation for which we do not have labels\n",
    "#pred is our preds from our test split\n",
    "target_pred = [np.argmax(x) for x in target_pred]\n",
    "pred = [np.argmax(x) for x in pred]"
   ]
  },
  {
   "cell_type": "code",
   "execution_count": 10,
   "metadata": {},
   "outputs": [
    {
     "data": {
      "text/plain": [
       "array([[ 985,    0,    6,    6,    4,   10,   17,    6,    6,    1],\n",
       "       [   0, 1061,   12,   13,   10,    6,    5,    4,   15,    0],\n",
       "       [   6,    4,  840,   44,   17,   14,   32,   19,   17,    6],\n",
       "       [   5,    6,   45,  958,    1,   23,    6,   20,   18,    6],\n",
       "       [   3,    2,    3,    1,  952,   10,   12,    5,    1,   52],\n",
       "       [  35,    4,   23,  117,   22,  727,   14,    9,   30,   14],\n",
       "       [  18,    0,   12,    5,   33,   15,  988,    1,    9,    4],\n",
       "       [   4,    6,   15,   11,    5,    0,    2,  997,    0,   39],\n",
       "       [  14,   18,   11,   94,   47,  103,   15,    4,  690,   23],\n",
       "       [   9,    3,    4,   20,   54,   19,    0,   65,    3,  850]])"
      ]
     },
     "execution_count": 10,
     "metadata": {},
     "output_type": "execute_result"
    }
   ],
   "source": [
    "metrics.confusion_matrix(np.argmax(y_test,axis=1),pred)"
   ]
  },
  {
   "cell_type": "code",
   "execution_count": 11,
   "metadata": {},
   "outputs": [
    {
     "data": {
      "text/plain": [
       "0.8617142857142858"
      ]
     },
     "execution_count": 11,
     "metadata": {},
     "output_type": "execute_result"
    }
   ],
   "source": [
    "metrics.accuracy_score(np.argmax(y_test,axis=1),pred)"
   ]
  },
  {
   "cell_type": "markdown",
   "metadata": {},
   "source": [
    "# Dense NN Keras"
   ]
  },
  {
   "cell_type": "code",
   "execution_count": 28,
   "metadata": {},
   "outputs": [
    {
     "name": "stderr",
     "output_type": "stream",
     "text": [
      "Using TensorFlow backend.\n"
     ]
    }
   ],
   "source": [
    "import pandas as pd\n",
    "import numpy as np\n",
    "\n",
    "from sklearn.model_selection import train_test_split\n",
    "from sklearn.preprocessing import StandardScaler, MinMaxScaler\n",
    "from sklearn import metrics\n",
    "\n",
    "import matplotlib.pyplot as plt\n",
    "import seaborn as sns\n",
    "\n",
    "import keras\n",
    "from keras import regularizers, optimizers\n",
    "\n",
    "from keras.utils import to_categorical\n",
    "from keras.models import Sequential\n",
    "from keras.layers import Dense,Dropout\n",
    "from keras.callbacks import EarlyStopping"
   ]
  },
  {
   "cell_type": "code",
   "execution_count": 29,
   "metadata": {},
   "outputs": [],
   "source": [
    "Training = pd.read_csv('./train.csv')\n",
    "Validation = pd.read_csv('./test.csv')"
   ]
  },
  {
   "cell_type": "code",
   "execution_count": 30,
   "metadata": {},
   "outputs": [],
   "source": [
    "#train test split with one hot encoded y's\n",
    "X_train,X_test,y_train,y_test = train_test_split(Training.drop('label',axis=1),to_categorical(Training.label))"
   ]
  },
  {
   "cell_type": "code",
   "execution_count": 31,
   "metadata": {},
   "outputs": [],
   "source": [
    "#mm = MinMaxScaler()\n",
    "#X_train = mm.fit_transform(X_train)\n",
    "#X_test = mm.transform(X_test)\n",
    "\n",
    "X_train = X_train/255.0\n",
    "X_test = X_test/255.0"
   ]
  },
  {
   "cell_type": "code",
   "execution_count": 32,
   "metadata": {},
   "outputs": [],
   "source": [
    "#if we want to adjust the learning rate - the difference per steps\n",
    "#if we want to add regularization to avoid fitting issues\n",
    "adam = optimizers.Adam(lr=0.01)\n",
    "l2 = regularizers.l2(0.0001)"
   ]
  },
  {
   "cell_type": "code",
   "execution_count": 33,
   "metadata": {},
   "outputs": [],
   "source": [
    "model = Sequential()\n",
    "\n",
    "n_input = X_train.shape[1]\n",
    "n_hidden = 256\n",
    "n_output = y_train.shape[1]\n",
    "\n",
    "#here we gen the topology\n",
    "model.add(Dense(n_hidden,input_dim=n_input,\n",
    "                activation='sigmoid',kernel_regularizer = l2))\n",
    "model.add(Dropout(.8))\n",
    "model.add(Dense(n_hidden,input_dim=n_input,\n",
    "                activation='sigmoid',kernel_regularizer = l2))\n",
    "model.add(Dense(n_output, \n",
    "                activation='softmax'))\n",
    "\n",
    "model.compile(loss='categorical_crossentropy', \n",
    "              optimizer=adam)\n",
    "\n",
    "#here we add early stopping so we can stop once \n",
    "#we are overfitting to the training data\n",
    "early_stop = EarlyStopping(monitor='val_loss', min_delta=0.001, patience=5)\n",
    "callbacks_list = [early_stop]\n",
    "\n",
    "history = model.fit(X_train, y_train, validation_data=(X_test, y_test), \n",
    "                    epochs=100, \n",
    "                    batch_size=128, callbacks=callbacks_list, verbose =0)"
   ]
  },
  {
   "cell_type": "code",
   "execution_count": 34,
   "metadata": {},
   "outputs": [
    {
     "data": {
      "text/plain": [
       "<matplotlib.legend.Legend at 0x1a23e95a20>"
      ]
     },
     "execution_count": 34,
     "metadata": {},
     "output_type": "execute_result"
    },
    {
     "data": {
      "image/png": "[encoded data removed]",
      "text/plain": [
       "<matplotlib.figure.Figure at 0x1a234f3c18>"
      ]
     },
     "metadata": {},
     "output_type": "display_data"
    }
   ],
   "source": [
    "train_loss = history.history['loss']\n",
    "test_loss = history.history['val_loss']\n",
    "plt.plot(train_loss, label='Training loss')\n",
    "plt.plot(test_loss, label='Testing loss')\n",
    "plt.xticks(history.epoch)\n",
    "plt.grid()\n",
    "plt.legend()"
   ]
  },
  {
   "cell_type": "code",
   "execution_count": null,
   "metadata": {},
   "outputs": [],
   "source": [
    "#we want to keep our testing loss as low as possible.\n",
    "#if it does not converge, that means... \n",
    "# not enough epochs, too much regularization, complexity, a whole slew of reasons\n",
    "#... biggest of all is likely because dense NN are not great for images\n",
    "# thats what CNNs are for"
   ]
  },
  {
   "cell_type": "code",
   "execution_count": 35,
   "metadata": {},
   "outputs": [
    {
     "data": {
      "text/plain": [
       "array([[ 986,    0,    0,    2,    0,    8,   13,    0,    6,    0],\n",
       "       [   1, 1126,    5,    2,    0,    7,    3,    2,    3,    2],\n",
       "       [   9,    7,  935,   15,   14,    2,   27,    9,    5,    0],\n",
       "       [   4,    5,   25,  979,    0,   64,    0,    8,    5,    5],\n",
       "       [   2,    3,    1,    0,  998,    1,   21,    1,    4,   18],\n",
       "       [   4,    2,    3,   12,    6,  955,   15,    1,    4,    2],\n",
       "       [   7,    5,    1,    0,    2,   18,  956,    0,    2,    0],\n",
       "       [   1,   14,   15,   10,    8,    3,    0, 1061,    3,    4],\n",
       "       [   3,    9,    5,   16,    3,   47,   13,    2,  925,    9],\n",
       "       [   6,    5,    0,   11,   56,   21,    4,   52,   11,  855]])"
      ]
     },
     "execution_count": 35,
     "metadata": {},
     "output_type": "execute_result"
    }
   ],
   "source": [
    "metrics.confusion_matrix(np.argmax(y_test,axis=1),model.predict_classes(X_test))"
   ]
  },
  {
   "cell_type": "code",
   "execution_count": 36,
   "metadata": {},
   "outputs": [
    {
     "data": {
      "text/plain": [
       "0.931047619047619"
      ]
     },
     "execution_count": 36,
     "metadata": {},
     "output_type": "execute_result"
    }
   ],
   "source": [
    "metrics.accuracy_score(np.argmax(y_test,axis=1),model.predict_classes(X_test))"
   ]
  },
  {
   "cell_type": "code",
   "execution_count": 37,
   "metadata": {},
   "outputs": [],
   "source": [
    "#loss: 0.6971 - val_loss: 0.4636 @ adam = .01, l2=0.0001, nhid = 128, 2 layers - met.acc = 0.932\n",
    "#loss: 0.9854 - val_loss: 0.6270 @ adam = .01, l2=0.0001, nhid = 128, 3 layers - met.acc = 0.909\n",
    "#loss: 0.6683 - val_loss: 0.4834 @ adam = .01, l2=0.0001, nhid = 256, 2 layers - met.acc = 0.935\n",
    "#loss: 0.9721 - val_loss: 0.7077 @ adam = .01, l2=0.0001, nhid = 256, 3 layers - met.acc = 0.919"
   ]
  },
  {
   "cell_type": "markdown",
   "metadata": {},
   "source": [
    "# Keras CNN"
   ]
  },
  {
   "cell_type": "code",
   "execution_count": 11,
   "metadata": {},
   "outputs": [],
   "source": [
    "# 1. Import libraries and modules\n",
    "import matplotlib.pyplot as plt\n",
    "import numpy as np\n",
    "np.random.seed(123)  # for reproducibility\n",
    "\n",
    "from keras.models import Sequential\n",
    "from keras.layers import Dense, Dropout, Activation, Flatten\n",
    "from keras import regularizers, optimizers\n",
    "from keras.layers import Convolution2D, MaxPooling2D\n",
    "from keras.utils import np_utils\n",
    "from keras.datasets import mnist\n",
    "\n",
    "from sklearn.metrics import confusion_matrix, accuracy_score, classification_report\n",
    "\n",
    "from keras.callbacks import EarlyStopping\n",
    " \n",
    "# 2. Load pre-shuffled MNIST data into train and test sets\n",
    "train = pd.read_csv('./train.csv')\n",
    "X_target = pd.read_csv('./test.csv')\n",
    "\n",
    "y = train['label']\n",
    "X = train.drop('label',axis=1)\n",
    "y = pd.get_dummies(y).values"
   ]
  },
  {
   "cell_type": "code",
   "execution_count": 75,
   "metadata": {},
   "outputs": [],
   "source": [
    "X_train, X_test, y_train, y_test = train_test_split(X,y,test_size=(0.2))"
   ]
  },
  {
   "cell_type": "code",
   "execution_count": 68,
   "metadata": {},
   "outputs": [],
   "source": [
    "#if i want to use the mnist dataset\n",
    "#kaggle added some but not all\n",
    "#(X_train, y_train), (X_test, y_test) = mnist.load_data()"
   ]
  },
  {
   "cell_type": "code",
   "execution_count": 74,
   "metadata": {},
   "outputs": [
    {
     "name": "stdout",
     "output_type": "stream",
     "text": [
      "(33600, 784)\n",
      "(33600, 28, 28, 1)\n"
     ]
    }
   ],
   "source": [
    "print(X_train.shape)\n",
    "X_train = X_train.reshape(X_train.shape[0],28,28,1)\n",
    "print(X_train.shape)"
   ]
  },
  {
   "cell_type": "code",
   "execution_count": 76,
   "metadata": {},
   "outputs": [
    {
     "name": "stdout",
     "output_type": "stream",
     "text": [
      "(33600, 784)\n",
      "(33600, 28, 28, 1)\n"
     ]
    }
   ],
   "source": [
    "#preprocess input data\n",
    "X_train = X_train.values\n",
    "X_train = X_train.reshape(X_train.shape[0],28,28,1)\n",
    "X_test = X_test.values\n",
    "X_test = X_test.reshape(X_test.shape[0],28,28,1)\n",
    "      \n",
    "X_train = X_train.astype('float32')\n",
    "X_test = X_test.astype('float32')\n",
    "\n",
    "X_train /= 255\n",
    "X_test /= 255"
   ]
  },
  {
   "cell_type": "code",
   "execution_count": 77,
   "metadata": {},
   "outputs": [],
   "source": [
    "#One Hot encoded targets\n",
    "y_train_cat = np_utils.to_categorical(y_train, 10)\n",
    "y_test_cat = np_utils.to_categorical(y_test, 10)"
   ]
  },
  {
   "cell_type": "code",
   "execution_count": 78,
   "metadata": {},
   "outputs": [],
   "source": [
    "adam = optimizers.Adam(lr=0.01)\n",
    "l2 = regularizers.l2(0.1)"
   ]
  },
  {
   "cell_type": "code",
   "execution_count": 79,
   "metadata": {},
   "outputs": [],
   "source": [
    "# Model topology & building\n",
    "model = Sequential()"
   ]
  },
  {
   "cell_type": "code",
   "execution_count": 80,
   "metadata": {},
   "outputs": [],
   "source": [
    "model.add(Convolution2D(filters = 6, \n",
    "                        kernel_size = 3,\n",
    "                       activation = 'relu', \n",
    "                        input_shape = (28,28,1),\n",
    "                       padding = 'same'))\n",
    "model.add(MaxPooling2D( pool_size= (2,2)))\n",
    "model.add(Dropout(0.3))"
   ]
  },
  {
   "cell_type": "code",
   "execution_count": 81,
   "metadata": {},
   "outputs": [],
   "source": [
    "model.add(Convolution2D(filters = 6, \n",
    "                        kernel_size = 3,\n",
    "                       activation = 'relu',\n",
    "                       padding = 'same'))\n",
    "model.add(MaxPooling2D( pool_size= (2,2)))\n",
    "model.add(Flatten())\n",
    "model.add(Dropout(0.5))"
   ]
  },
  {
   "cell_type": "code",
   "execution_count": 82,
   "metadata": {},
   "outputs": [],
   "source": [
    "model.add(Dense(528, \n",
    "                activation='relu'))\n",
    "model.add(Dropout(0.25))\n",
    "\n",
    "model.add(Dense(256, \n",
    "                activation='relu'))\n",
    "model.add(Dropout(0.25))\n",
    "\n",
    "model.add(Dense(128, \n",
    "                activation='relu'))"
   ]
  },
  {
   "cell_type": "code",
   "execution_count": 83,
   "metadata": {},
   "outputs": [],
   "source": [
    "model.add(Dense(10, \n",
    "                activation='softmax'))"
   ]
  },
  {
   "cell_type": "code",
   "execution_count": null,
   "metadata": {},
   "outputs": [],
   "source": []
  },
  {
   "cell_type": "code",
   "execution_count": 89,
   "metadata": {},
   "outputs": [],
   "source": [
    "#COMPILE\n",
    "model.compile(loss = 'categorical_crossentropy',\n",
    "              metrics=['accuracy'],\n",
    "             optimizer = adam)\n",
    "\n",
    "early_stop = EarlyStopping(monitor='val_loss', min_delta=1, patience=10)\n",
    "\n",
    "callbacks_list = [early_stop]"
   ]
  },
  {
   "cell_type": "code",
   "execution_count": 92,
   "metadata": {},
   "outputs": [
    {
     "name": "stdout",
     "output_type": "stream",
     "text": [
      "Train on 33600 samples, validate on 8400 samples\n",
      "Epoch 1/50\n",
      "33600/33600 [==============================] - 77s 2ms/step - loss: 0.6920 - acc: 0.7728 - val_loss: 0.1366 - val_acc: 0.9595\n",
      "Epoch 2/50\n",
      "33600/33600 [==============================] - 67s 2ms/step - loss: 0.3486 - acc: 0.8935 - val_loss: 0.1171 - val_acc: 0.9656\n",
      "Epoch 3/50\n",
      "33600/33600 [==============================] - 66s 2ms/step - loss: 0.3060 - acc: 0.9074 - val_loss: 0.0979 - val_acc: 0.9714\n",
      "Epoch 4/50\n",
      "33600/33600 [==============================] - 65s 2ms/step - loss: 0.2846 - acc: 0.9129 - val_loss: 0.0948 - val_acc: 0.9739\n",
      "Epoch 5/50\n",
      "33600/33600 [==============================] - 66s 2ms/step - loss: 0.2720 - acc: 0.9162 - val_loss: 0.0925 - val_acc: 0.9749\n",
      "Epoch 6/50\n",
      "33600/33600 [==============================] - 74s 2ms/step - loss: 0.2656 - acc: 0.9202 - val_loss: 0.0835 - val_acc: 0.9757\n",
      "Epoch 7/50\n",
      "33600/33600 [==============================] - 69s 2ms/step - loss: 0.2714 - acc: 0.9177 - val_loss: 0.0866 - val_acc: 0.9752\n",
      "Epoch 8/50\n",
      "33600/33600 [==============================] - 72s 2ms/step - loss: 0.2541 - acc: 0.9262 - val_loss: 0.0834 - val_acc: 0.9783\n",
      "Epoch 9/50\n",
      "33600/33600 [==============================] - 63s 2ms/step - loss: 0.2521 - acc: 0.9239 - val_loss: 0.0914 - val_acc: 0.9739\n",
      "Epoch 10/50\n",
      "33600/33600 [==============================] - 64s 2ms/step - loss: 0.2500 - acc: 0.9246 - val_loss: 0.0766 - val_acc: 0.9781\n",
      "Epoch 11/50\n",
      "33600/33600 [==============================] - 62s 2ms/step - loss: 0.2494 - acc: 0.9254 - val_loss: 0.0800 - val_acc: 0.9794\n",
      "Epoch 12/50\n",
      "33600/33600 [==============================] - 64s 2ms/step - loss: 0.2446 - acc: 0.9277 - val_loss: 0.0673 - val_acc: 0.9801\n",
      "Epoch 13/50\n",
      "33600/33600 [==============================] - 67s 2ms/step - loss: 0.2443 - acc: 0.9279 - val_loss: 0.0871 - val_acc: 0.9763\n",
      "Epoch 14/50\n",
      "33600/33600 [==============================] - 73s 2ms/step - loss: 0.2332 - acc: 0.9316 - val_loss: 0.0728 - val_acc: 0.9790\n",
      "Epoch 15/50\n",
      "33600/33600 [==============================] - 67s 2ms/step - loss: 0.2350 - acc: 0.9329 - val_loss: 0.0687 - val_acc: 0.9812\n",
      "Epoch 16/50\n",
      "33600/33600 [==============================] - 66s 2ms/step - loss: 0.2308 - acc: 0.9310 - val_loss: 0.0659 - val_acc: 0.9814\n",
      "Epoch 17/50\n",
      "33600/33600 [==============================] - 66s 2ms/step - loss: 0.2459 - acc: 0.9314 - val_loss: 0.0742 - val_acc: 0.9794\n",
      "Epoch 18/50\n",
      "33600/33600 [==============================] - 65s 2ms/step - loss: 0.2428 - acc: 0.9305 - val_loss: 0.0767 - val_acc: 0.9820\n",
      "Epoch 19/50\n",
      "33600/33600 [==============================] - 67s 2ms/step - loss: 0.2381 - acc: 0.9307 - val_loss: 0.0812 - val_acc: 0.9770\n",
      "Epoch 20/50\n",
      "33600/33600 [==============================] - 64s 2ms/step - loss: 0.2411 - acc: 0.9309 - val_loss: 0.0817 - val_acc: 0.9780\n",
      "Epoch 21/50\n",
      "33600/33600 [==============================] - 66s 2ms/step - loss: 0.2374 - acc: 0.9326 - val_loss: 0.0799 - val_acc: 0.9795\n",
      "Epoch 22/50\n",
      "33600/33600 [==============================] - 66s 2ms/step - loss: 0.2263 - acc: 0.9358 - val_loss: 0.0847 - val_acc: 0.9768\n",
      "Epoch 23/50\n",
      "33600/33600 [==============================] - 85s 3ms/step - loss: 0.2289 - acc: 0.9334 - val_loss: 0.0676 - val_acc: 0.9815\n",
      "Epoch 24/50\n",
      "33600/33600 [==============================] - 75s 2ms/step - loss: 0.2352 - acc: 0.9327 - val_loss: 0.0798 - val_acc: 0.9794\n",
      "Epoch 25/50\n",
      "33600/33600 [==============================] - 88s 3ms/step - loss: 0.2346 - acc: 0.9343 - val_loss: 0.0734 - val_acc: 0.9826\n",
      "Epoch 26/50\n",
      "33600/33600 [==============================] - 100s 3ms/step - loss: 0.2402 - acc: 0.9330 - val_loss: 0.0709 - val_acc: 0.9817\n",
      "Epoch 27/50\n",
      "33600/33600 [==============================] - 92s 3ms/step - loss: 0.2262 - acc: 0.9354 - val_loss: 0.0940 - val_acc: 0.9782\n",
      "Epoch 28/50\n",
      "33600/33600 [==============================] - 81s 2ms/step - loss: 0.2257 - acc: 0.9357 - val_loss: 0.0687 - val_acc: 0.9826\n",
      "Epoch 29/50\n",
      "33600/33600 [==============================] - 101s 3ms/step - loss: 0.2337 - acc: 0.9348 - val_loss: 0.0789 - val_acc: 0.9789\n",
      "Epoch 30/50\n",
      "33600/33600 [==============================] - 82s 2ms/step - loss: 0.2271 - acc: 0.9346 - val_loss: 0.0594 - val_acc: 0.9832\n",
      "Epoch 31/50\n",
      "33600/33600 [==============================] - 80s 2ms/step - loss: 0.2413 - acc: 0.9332 - val_loss: 0.0762 - val_acc: 0.9801\n",
      "Epoch 32/50\n",
      "33600/33600 [==============================] - 85s 3ms/step - loss: 0.2286 - acc: 0.9339 - val_loss: 0.0701 - val_acc: 0.9820\n",
      "Epoch 33/50\n",
      "33600/33600 [==============================] - 64s 2ms/step - loss: 0.2272 - acc: 0.9356 - val_loss: 0.0738 - val_acc: 0.9818\n",
      "Epoch 34/50\n",
      "33600/33600 [==============================] - 62s 2ms/step - loss: 0.2194 - acc: 0.9376 - val_loss: 0.0717 - val_acc: 0.9810\n",
      "Epoch 35/50\n",
      "33600/33600 [==============================] - 62s 2ms/step - loss: 0.2178 - acc: 0.9403 - val_loss: 0.0683 - val_acc: 0.9826\n",
      "Epoch 36/50\n",
      "33600/33600 [==============================] - 60s 2ms/step - loss: 0.2167 - acc: 0.9387 - val_loss: 0.0764 - val_acc: 0.9805\n",
      "Epoch 37/50\n",
      "33600/33600 [==============================] - 106s 3ms/step - loss: 0.2150 - acc: 0.9393 - val_loss: 0.0669 - val_acc: 0.9813\n",
      "Epoch 38/50\n",
      "33600/33600 [==============================] - 84s 2ms/step - loss: 0.2235 - acc: 0.9359 - val_loss: 0.0644 - val_acc: 0.9844\n",
      "Epoch 39/50\n",
      "33600/33600 [==============================] - 86s 3ms/step - loss: 0.2129 - acc: 0.9395 - val_loss: 0.0660 - val_acc: 0.9829\n",
      "Epoch 40/50\n",
      "33600/33600 [==============================] - 68s 2ms/step - loss: 0.2209 - acc: 0.9371 - val_loss: 0.0681 - val_acc: 0.9827\n",
      "Epoch 41/50\n",
      "33600/33600 [==============================] - 61s 2ms/step - loss: 0.2169 - acc: 0.9390 - val_loss: 0.0650 - val_acc: 0.9843\n",
      "Epoch 42/50\n",
      "33600/33600 [==============================] - 59s 2ms/step - loss: 0.2298 - acc: 0.9362 - val_loss: 0.0652 - val_acc: 0.9829\n",
      "Epoch 43/50\n",
      "33600/33600 [==============================] - 62s 2ms/step - loss: 0.2125 - acc: 0.9396 - val_loss: 0.0801 - val_acc: 0.9801\n",
      "Epoch 44/50\n",
      "33600/33600 [==============================] - 62s 2ms/step - loss: 0.2256 - acc: 0.9370 - val_loss: 0.0740 - val_acc: 0.9813\n",
      "Epoch 45/50\n",
      "33600/33600 [==============================] - 60s 2ms/step - loss: 0.2250 - acc: 0.9371 - val_loss: 0.0729 - val_acc: 0.9819\n",
      "Epoch 46/50\n",
      "33600/33600 [==============================] - 59s 2ms/step - loss: 0.2311 - acc: 0.9376 - val_loss: 0.0710 - val_acc: 0.9813\n",
      "Epoch 47/50\n",
      "33600/33600 [==============================] - 61s 2ms/step - loss: 0.2160 - acc: 0.9391 - val_loss: 0.0668 - val_acc: 0.9833\n",
      "Epoch 48/50\n",
      "33600/33600 [==============================] - 64s 2ms/step - loss: 0.2279 - acc: 0.9370 - val_loss: 0.0783 - val_acc: 0.9779\n",
      "Epoch 49/50\n",
      "33600/33600 [==============================] - 60s 2ms/step - loss: 0.2277 - acc: 0.9381 - val_loss: 0.0676 - val_acc: 0.9814\n",
      "Epoch 50/50\n",
      "33600/33600 [==============================] - 61s 2ms/step - loss: 0.2211 - acc: 0.9380 - val_loss: 0.0754 - val_acc: 0.9810\n"
     ]
    }
   ],
   "source": [
    "# 7. Fit model on training data\n",
    "history = model.fit(X_train, y_train, validation_data=(X_test, y_test), epochs=50, \n",
    "                    batch_size=256,  verbose =1)"
   ]
  },
  {
   "cell_type": "code",
   "execution_count": 21,
   "metadata": {},
   "outputs": [
    {
     "data": {
      "image/png": "[encoded data removed]",
      "text/plain": [
       "<matplotlib.figure.Figure at 0x1a3468d518>"
      ]
     },
     "metadata": {},
     "output_type": "display_data"
    }
   ],
   "source": [
    "train_loss = history.history['loss']\n",
    "test_loss = history.history['val_loss']\n",
    "plt.plot(train_loss, label='Training loss')\n",
    "plt.plot(test_loss, label='Testing loss')\n",
    "plt.xticks(history.epoch)\n",
    "plt.title('Loss')\n",
    "plt.grid()\n",
    "plt.legend();"
   ]
  },
  {
   "cell_type": "code",
   "execution_count": 22,
   "metadata": {},
   "outputs": [
    {
     "data": {
      "image/png": "[encoded data removed]",
      "text/plain": [
       "<matplotlib.figure.Figure at 0x1a3468d0b8>"
      ]
     },
     "metadata": {},
     "output_type": "display_data"
    }
   ],
   "source": [
    "plt.figure()\n",
    "plt.plot(history.history['acc'])\n",
    "plt.plot(history.history['val_acc'])\n",
    "plt.title('model accuracy')\n",
    "plt.ylabel('accuracy')\n",
    "plt.xlabel('epoch')\n",
    "plt.xticks(history.epoch)\n",
    "plt.xlim()\n",
    "plt.legend(['train', 'test'], loc='best')\n",
    "plt.show();"
   ]
  },
  {
   "cell_type": "code",
   "execution_count": 23,
   "metadata": {},
   "outputs": [
    {
     "data": {
      "text/plain": [
       "array([[ 972,    0,    0,    0,    0,    0,    5,    1,    2,    0],\n",
       "       [   0, 1125,    3,    0,    1,    0,    5,    0,    1,    0],\n",
       "       [   6,    2, 1009,    2,    1,    0,    3,    5,    4,    0],\n",
       "       [   0,    0,    2,  980,    0,    6,    0,    4,   15,    3],\n",
       "       [   0,    0,    1,    0,  965,    0,    1,    1,    2,   12],\n",
       "       [   2,    0,    0,    2,    1,  858,    6,    1,   12,   10],\n",
       "       [   8,    3,    0,    0,    4,    2,  937,    0,    4,    0],\n",
       "       [   0,    4,   11,    0,    1,    0,    0,  982,    2,   28],\n",
       "       [   3,    0,    1,    1,    3,    1,    1,    2,  957,    5],\n",
       "       [   2,    2,    1,    1,    7,    2,    0,    3,   18,  973]])"
      ]
     },
     "execution_count": 23,
     "metadata": {},
     "output_type": "execute_result"
    }
   ],
   "source": [
    "confusion_matrix(np.argmax(y_test_cat,axis=1),model.predict_classes(X_test))"
   ]
  },
  {
   "cell_type": "code",
   "execution_count": 24,
   "metadata": {},
   "outputs": [
    {
     "data": {
      "text/plain": [
       "0.9758"
      ]
     },
     "execution_count": 24,
     "metadata": {},
     "output_type": "execute_result"
    }
   ],
   "source": [
    "accuracy_score(np.argmax(y_test_cat,axis=1),model.predict_classes(X_test))"
   ]
  },
  {
   "cell_type": "code",
   "execution_count": 98,
   "metadata": {},
   "outputs": [],
   "source": [
    "#|0.9235| loss: 1.0872 - val_loss: 0.4303 @ adam = .01, 2convo - d - hid(128) - d - out\n",
    "#|bad   | loss: bad - val_loss: bad @ adam = .01, 2convo - d - hid(128)(l2=0.001) - d - hid2(128) - out\n",
    "\n",
    "#|0.9235| loss: 1.0872 - val_loss: 0.4303 @ adam = .01, 2convo - hid(128) - d - hid2(128) - d - out\n",
    "#|0.9556| loss: 0.5472 - val_loss: 0.1765 @ adam = .01, 2convo - hid(128) - d - hid2(128) - d - hid3(128) - out\n",
    "\n",
    "#|0.9812| loss: 0.1270 - val_loss: 0.0645 @ 2convo - hid(128) - d(0.5) - hid(128) - d(0.5) - hid2(128) - out\n",
    "#|0.9814| loss: 0.1216 - val_loss: 0.0775 @ 2convo - hid(256) - d(0.5) - hid(128) - d(0.5) - hid2(128) - out\n",
    "#|0.9828| loss: 0.1230 - val_loss: 0.0627 @ 2convo - hid(256) - d(0.5) - hid(256) - d(0.5) - hid2(128) - out(5epoch)\n",
    "\n",
    "#|0.9816| loss: 0.1051 - val_loss: 0.0680 @ 2convo - hid(256) - d(0.4) - hid(256) - d(0.4) - hid2(128) - out(5epoch)\n",
    "#|0.9816| loss: 0.1005 - val_loss: 0.0630 @ 2convo - hid(256) - d(0.3) - hid(256) - d(0.4) - hid2(128) - out(4epoch)\n",
    "#|0.9843| loss: 0.0751 - val_loss: 0.0627 @ 2convo - hid(256) - d(0.25) - hid(256) - d(0.3) - hid2(128) - out(7ish)\n",
    "\n",
    "#|0.9825| loss: 0.1271 - val_loss: 0.0536 @ convo-d(0.25)-convo - hid(256) - d(0.25) - hid(256) - d(0.25) - hid2(128) - out()"
   ]
  },
  {
   "cell_type": "code",
   "execution_count": null,
   "metadata": {},
   "outputs": [],
   "source": []
  },
  {
   "cell_type": "markdown",
   "metadata": {},
   "source": [
    "# TensorFlow CNN"
   ]
  },
  {
   "cell_type": "code",
   "execution_count": 29,
   "metadata": {},
   "outputs": [],
   "source": [
    "import tensorflow as tf\n",
    "\n",
    "from sklearn.model_selection import train_test_split\n",
    "from sklearn.preprocessing import StandardScaler\n",
    "from sklearn import metrics\n",
    "\n",
    "import matplotlib.pyplot as plt\n",
    "import seaborn as sns\n",
    "\n",
    "%matplotlib inline\n",
    "\n",
    "import pandas as pd\n",
    "import numpy as np"
   ]
  },
  {
   "cell_type": "code",
   "execution_count": 30,
   "metadata": {},
   "outputs": [],
   "source": [
    "Training = pd.read_csv('./train.csv')\n",
    "X_target = pd.read_csv('./test.csv')"
   ]
  },
  {
   "cell_type": "code",
   "execution_count": 31,
   "metadata": {},
   "outputs": [],
   "source": [
    "y = Training['label']\n",
    "X = Training.drop('label',axis=1)\n",
    "y = pd.get_dummies(y).values"
   ]
  },
  {
   "cell_type": "code",
   "execution_count": 35,
   "metadata": {},
   "outputs": [
    {
     "ename": "AttributeError",
     "evalue": "'numpy.ndarray' object has no attribute 'values'",
     "output_type": "error",
     "traceback": [
      "\u001b[0;31m---------------------------------------------------------------------------\u001b[0m",
      "\u001b[0;31mAttributeError\u001b[0m                            Traceback (most recent call last)",
      "\u001b[0;32m<ipython-input-35-b8c2e3a53c4a>\u001b[0m in \u001b[0;36m<module>\u001b[0;34m()\u001b[0m\n\u001b[0;32m----> 1\u001b[0;31m \u001b[0mX_train\u001b[0m\u001b[0;34m,\u001b[0m \u001b[0mX_test\u001b[0m\u001b[0;34m,\u001b[0m \u001b[0my_train\u001b[0m\u001b[0;34m,\u001b[0m \u001b[0my_test\u001b[0m \u001b[0;34m=\u001b[0m \u001b[0mtrain_test_split\u001b[0m\u001b[0;34m(\u001b[0m\u001b[0mX\u001b[0m\u001b[0;34m.\u001b[0m\u001b[0mvalues\u001b[0m\u001b[0;34m,\u001b[0m\u001b[0my\u001b[0m\u001b[0;34m.\u001b[0m\u001b[0mvalues\u001b[0m\u001b[0;34m,\u001b[0m\u001b[0mtest_size\u001b[0m\u001b[0;34m=\u001b[0m\u001b[0;34m(\u001b[0m\u001b[0;36m0.1\u001b[0m\u001b[0;34m)\u001b[0m\u001b[0;34m)\u001b[0m\u001b[0;34m\u001b[0m\u001b[0m\n\u001b[0m",
      "\u001b[0;31mAttributeError\u001b[0m: 'numpy.ndarray' object has no attribute 'values'"
     ]
    }
   ],
   "source": [
    "X_train, X_test, y_train, y_test = train_test_split(X,y,test_size=(0.1))"
   ]
  },
  {
   "cell_type": "code",
   "execution_count": 39,
   "metadata": {},
   "outputs": [],
   "source": [
    "# Min/Max Scaling\n",
    "X_train = X_train.values/255.0\n",
    "X_test = X_test.values/255.0"
   ]
  },
  {
   "cell_type": "code",
   "execution_count": null,
   "metadata": {},
   "outputs": [],
   "source": [
    "# Parameters\n",
    "img_size = 28\n",
    "img_size_flat = img_size * img_size\n",
    "n_labels = 10 #0-9\n",
    "\n",
    "# \n",
    "lr = 0.01\n",
    "n_nodes = 100\n",
    "epochs = 10\n",
    "stride = 5"
   ]
  },
  {
   "cell_type": "code",
   "execution_count": 90,
   "metadata": {},
   "outputs": [],
   "source": [
    "tf.reset_default_graph()\n",
    "\n",
    "x = tf.placeholder(tf.float32,shape=[None,784])\n",
    "y = tf.placeholder(tf.float32,shape=[None,10])\n",
    "x_image = tf.reshape(x,[-1,28,28,1])"
   ]
  },
  {
   "cell_type": "code",
   "execution_count": 91,
   "metadata": {},
   "outputs": [],
   "source": [
    "conv1 = tf.layers.conv2d(\n",
    "    inputs=x_image,\n",
    "    filters=32,\n",
    "    kernel_size=[5, 5],\n",
    "    padding=\"same\",\n",
    "    activation=tf.nn.relu)\n",
    "pool1 = tf.layers.max_pooling2d(inputs=conv1, pool_size=[2, 2], strides=2)"
   ]
  },
  {
   "cell_type": "code",
   "execution_count": 92,
   "metadata": {},
   "outputs": [],
   "source": [
    "conv2 = tf.layers.conv2d(\n",
    "    inputs=x_image,\n",
    "    filters=32,\n",
    "    kernel_size=[5, 5],\n",
    "    padding=\"same\",\n",
    "    activation=tf.nn.relu)\n",
    "pool2 = tf.layers.max_pooling2d(inputs=pool1, pool_size=[2, 2], strides=2)"
   ]
  },
  {
   "cell_type": "code",
   "execution_count": 93,
   "metadata": {},
   "outputs": [],
   "source": [
    "pool2_flat = tf.reshape(pool2, [-1, 7 * 7 * 64])"
   ]
  },
  {
   "cell_type": "code",
   "execution_count": 94,
   "metadata": {},
   "outputs": [],
   "source": [
    "dense = tf.layers.dense(inputs=pool2_flat, units=1024, activation=tf.nn.relu)"
   ]
  },
  {
   "cell_type": "code",
   "execution_count": 95,
   "metadata": {},
   "outputs": [],
   "source": [
    "dropout = tf.layers.dropout(inputs=dense, rate=0.4)"
   ]
  },
  {
   "cell_type": "code",
   "execution_count": 96,
   "metadata": {},
   "outputs": [],
   "source": [
    "logits = tf.layers.dense(inputs=dropout, units=10)"
   ]
  },
  {
   "cell_type": "code",
   "execution_count": 97,
   "metadata": {},
   "outputs": [],
   "source": [
    "#tf.argmax(input=logits, axis=1)"
   ]
  },
  {
   "cell_type": "code",
   "execution_count": 98,
   "metadata": {},
   "outputs": [],
   "source": [
    "#tf.nn.softmax(logits, name=\"softmax_tensor\")"
   ]
  },
  {
   "cell_type": "code",
   "execution_count": 99,
   "metadata": {},
   "outputs": [],
   "source": [
    "predictions = {\n",
    "    \"classes\": tf.argmax(input=logits, axis=1),\n",
    "    \"probabilities\": tf.nn.softmax(logits, name=\"softmax_tensor\")}"
   ]
  },
  {
   "cell_type": "code",
   "execution_count": 100,
   "metadata": {},
   "outputs": [],
   "source": [
    "loss = tf.losses.softmax_cross_entropy(y, logits)\n",
    "\n",
    "learning_rate = 0.1\n",
    "optimizer = tf.train.AdamOptimizer(learning_rate)"
   ]
  },
  {
   "cell_type": "code",
   "execution_count": 101,
   "metadata": {},
   "outputs": [],
   "source": [
    "training_op = optimizer.minimize(loss)"
   ]
  },
  {
   "cell_type": "code",
   "execution_count": 105,
   "metadata": {},
   "outputs": [
    {
     "data": {
      "text/plain": [
       "'\\ntrain_input_fn = tf.estimator.inputs.numpy_input_fn(\\n    x={\"x\": X_train},\\n    y=y_train,\\n    batch_size=100,\\n    num_epochs=10,\\n    shuffle=True)\\n'"
      ]
     },
     "execution_count": 105,
     "metadata": {},
     "output_type": "execute_result"
    }
   ],
   "source": [
    "\n",
    "\"\"\"\n",
    "train_input_fn = tf.estimator.inputs.numpy_input_fn(\n",
    "    x={\"x\": X_train},\n",
    "    y=y_train,\n",
    "    batch_size=100,\n",
    "    num_epochs=10,\n",
    "    shuffle=True)\n",
    "\"\"\""
   ]
  },
  {
   "cell_type": "code",
   "execution_count": 106,
   "metadata": {},
   "outputs": [
    {
     "ename": "TypeError",
     "evalue": "'DataFrame' objects are mutable, thus they cannot be hashed",
     "output_type": "error",
     "traceback": [
      "\u001b[0;31m---------------------------------------------------------------------------\u001b[0m",
      "\u001b[0;31mTypeError\u001b[0m                                 Traceback (most recent call last)",
      "\u001b[0;32m<ipython-input-106-be6a27cd60a4>\u001b[0m in \u001b[0;36m<module>\u001b[0;34m()\u001b[0m\n\u001b[1;32m     10\u001b[0m     \u001b[0;32mfor\u001b[0m \u001b[0mepoch\u001b[0m \u001b[0;32min\u001b[0m \u001b[0mrange\u001b[0m\u001b[0;34m(\u001b[0m\u001b[0;36m15\u001b[0m\u001b[0;34m)\u001b[0m\u001b[0;34m:\u001b[0m\u001b[0;34m\u001b[0m\u001b[0m\n\u001b[1;32m     11\u001b[0m         sess.run(training_op,\n\u001b[0;32m---> 12\u001b[0;31m                  feed_dict={X:X_train, y:y_train})\n\u001b[0m\u001b[1;32m     13\u001b[0m         train_loss = sess.run(loss, \n\u001b[1;32m     14\u001b[0m                               feed_dict={X:X_train, y:y_train})\n",
      "\u001b[0;32m~/anaconda3/envs/NN/lib/python3.6/site-packages/pandas/core/generic.py\u001b[0m in \u001b[0;36m__hash__\u001b[0;34m(self)\u001b[0m\n\u001b[1;32m   1043\u001b[0m     \u001b[0;32mdef\u001b[0m \u001b[0m__hash__\u001b[0m\u001b[0;34m(\u001b[0m\u001b[0mself\u001b[0m\u001b[0;34m)\u001b[0m\u001b[0;34m:\u001b[0m\u001b[0;34m\u001b[0m\u001b[0m\n\u001b[1;32m   1044\u001b[0m         raise TypeError('{0!r} objects are mutable, thus they cannot be'\n\u001b[0;32m-> 1045\u001b[0;31m                         ' hashed'.format(self.__class__.__name__))\n\u001b[0m\u001b[1;32m   1046\u001b[0m \u001b[0;34m\u001b[0m\u001b[0m\n\u001b[1;32m   1047\u001b[0m     \u001b[0;32mdef\u001b[0m \u001b[0m__iter__\u001b[0m\u001b[0;34m(\u001b[0m\u001b[0mself\u001b[0m\u001b[0;34m)\u001b[0m\u001b[0;34m:\u001b[0m\u001b[0;34m\u001b[0m\u001b[0m\n",
      "\u001b[0;31mTypeError\u001b[0m: 'DataFrame' objects are mutable, thus they cannot be hashed"
     ]
    }
   ],
   "source": [
    "\n",
    "init = tf.global_variables_initializer()\n",
    "\n",
    "train_err = []\n",
    "test_err = []\n",
    "\n",
    "with tf.Session() as sess:\n",
    "    init.run()\n",
    "    \n",
    "    for epoch in range(15):\n",
    "        sess.run(training_op,\n",
    "                 feed_dict={X:X_train, y:y_train})\n",
    "        train_loss = sess.run(loss, \n",
    "                              feed_dict={X:X_train, y:y_train})\n",
    "        test_loss = sess.run(loss,\n",
    "                             feed_dict={X:X_test, \n",
    "                                        y:y_test})\n",
    "        train_err.append(train_loss)\n",
    "        test_err.append(test_loss)\n",
    "        \n",
    "        if epoch%5==0:\n",
    "            print('epoch',epoch,train_loss,test_loss)\n",
    "        if test_loss/train_loss>1.02:\n",
    "            print('nope')\n",
    "            break\n",
    "                \n",
    "    pred = sess.run(y_hat, feed_dict={X:X_test})\n",
    "    target_pred = sess.run(y_hat, feed_dict={X:X_target})"
   ]
  },
  {
   "cell_type": "code",
   "execution_count": 81,
   "metadata": {},
   "outputs": [
    {
     "data": {
      "text/plain": [
       "array([0, 0, 0, 0, 0, 0, 0, 1, 0, 0], dtype=uint8)"
      ]
     },
     "execution_count": 81,
     "metadata": {},
     "output_type": "execute_result"
    }
   ],
   "source": [
    "y_train[0]"
   ]
  },
  {
   "cell_type": "code",
   "execution_count": null,
   "metadata": {},
   "outputs": [],
   "source": []
  }
 ],
 "metadata": {
  "kernelspec": {
   "display_name": "Python [conda env:NN]",
   "language": "python",
   "name": "conda-env-NN-py"
  },
  "language_info": {
   "codemirror_mode": {
    "name": "ipython",
    "version": 3
   },
   "file_extension": ".py",
   "mimetype": "text/x-python",
   "name": "python",
   "nbconvert_exporter": "python",
   "pygments_lexer": "ipython3",
   "version": "3.6.4"
  }
 },
 "nbformat": 4,
 "nbformat_minor": 2
}
